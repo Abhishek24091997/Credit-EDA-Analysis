{
 "cells": [
  {
   "cell_type": "code",
   "execution_count": 1,
   "metadata": {},
   "outputs": [],
   "source": [
    "# importing the packages\n",
    "import numpy as np\n",
    "import pandas as pd\n",
    "import matplotlib.pyplot as plt\n",
    "import seaborn as sns\n",
    "import warnings\n",
    "warnings.filterwarnings('ignore')\n"
   ]
  },
  {
   "cell_type": "code",
   "execution_count": 2,
   "metadata": {},
   "outputs": [
    {
     "data": {
      "text/plain": [
       "<Figure size 1440x720 with 0 Axes>"
      ]
     },
     "execution_count": 2,
     "metadata": {},
     "output_type": "execute_result"
    },
    {
     "data": {
      "text/plain": [
       "<Figure size 1440x720 with 0 Axes>"
      ]
     },
     "metadata": {},
     "output_type": "display_data"
    }
   ],
   "source": [
    "# Plotting the size\n",
    "plt.figure(figsize = (20,10))"
   ]
  },
  {
   "cell_type": "code",
   "execution_count": 3,
   "metadata": {
    "scrolled": false
   },
   "outputs": [
    {
     "name": "stdout",
     "output_type": "stream",
     "text": [
      "(307511, 122)\n"
     ]
    },
    {
     "data": {
      "text/html": [
       "<div>\n",
       "<style scoped>\n",
       "    .dataframe tbody tr th:only-of-type {\n",
       "        vertical-align: middle;\n",
       "    }\n",
       "\n",
       "    .dataframe tbody tr th {\n",
       "        vertical-align: top;\n",
       "    }\n",
       "\n",
       "    .dataframe thead th {\n",
       "        text-align: right;\n",
       "    }\n",
       "</style>\n",
       "<table border=\"1\" class=\"dataframe\">\n",
       "  <thead>\n",
       "    <tr style=\"text-align: right;\">\n",
       "      <th></th>\n",
       "      <th>SK_ID_CURR</th>\n",
       "      <th>TARGET</th>\n",
       "      <th>NAME_CONTRACT_TYPE</th>\n",
       "      <th>CODE_GENDER</th>\n",
       "      <th>FLAG_OWN_CAR</th>\n",
       "      <th>FLAG_OWN_REALTY</th>\n",
       "      <th>CNT_CHILDREN</th>\n",
       "      <th>AMT_INCOME_TOTAL</th>\n",
       "      <th>AMT_CREDIT</th>\n",
       "      <th>AMT_ANNUITY</th>\n",
       "      <th>...</th>\n",
       "      <th>FLAG_DOCUMENT_18</th>\n",
       "      <th>FLAG_DOCUMENT_19</th>\n",
       "      <th>FLAG_DOCUMENT_20</th>\n",
       "      <th>FLAG_DOCUMENT_21</th>\n",
       "      <th>AMT_REQ_CREDIT_BUREAU_HOUR</th>\n",
       "      <th>AMT_REQ_CREDIT_BUREAU_DAY</th>\n",
       "      <th>AMT_REQ_CREDIT_BUREAU_WEEK</th>\n",
       "      <th>AMT_REQ_CREDIT_BUREAU_MON</th>\n",
       "      <th>AMT_REQ_CREDIT_BUREAU_QRT</th>\n",
       "      <th>AMT_REQ_CREDIT_BUREAU_YEAR</th>\n",
       "    </tr>\n",
       "  </thead>\n",
       "  <tbody>\n",
       "    <tr>\n",
       "      <th>0</th>\n",
       "      <td>100002</td>\n",
       "      <td>1</td>\n",
       "      <td>Cash loans</td>\n",
       "      <td>M</td>\n",
       "      <td>N</td>\n",
       "      <td>Y</td>\n",
       "      <td>0</td>\n",
       "      <td>202500.0</td>\n",
       "      <td>406597.5</td>\n",
       "      <td>24700.5</td>\n",
       "      <td>...</td>\n",
       "      <td>0</td>\n",
       "      <td>0</td>\n",
       "      <td>0</td>\n",
       "      <td>0</td>\n",
       "      <td>0.0</td>\n",
       "      <td>0.0</td>\n",
       "      <td>0.0</td>\n",
       "      <td>0.0</td>\n",
       "      <td>0.0</td>\n",
       "      <td>1.0</td>\n",
       "    </tr>\n",
       "    <tr>\n",
       "      <th>1</th>\n",
       "      <td>100003</td>\n",
       "      <td>0</td>\n",
       "      <td>Cash loans</td>\n",
       "      <td>F</td>\n",
       "      <td>N</td>\n",
       "      <td>N</td>\n",
       "      <td>0</td>\n",
       "      <td>270000.0</td>\n",
       "      <td>1293502.5</td>\n",
       "      <td>35698.5</td>\n",
       "      <td>...</td>\n",
       "      <td>0</td>\n",
       "      <td>0</td>\n",
       "      <td>0</td>\n",
       "      <td>0</td>\n",
       "      <td>0.0</td>\n",
       "      <td>0.0</td>\n",
       "      <td>0.0</td>\n",
       "      <td>0.0</td>\n",
       "      <td>0.0</td>\n",
       "      <td>0.0</td>\n",
       "    </tr>\n",
       "    <tr>\n",
       "      <th>2</th>\n",
       "      <td>100004</td>\n",
       "      <td>0</td>\n",
       "      <td>Revolving loans</td>\n",
       "      <td>M</td>\n",
       "      <td>Y</td>\n",
       "      <td>Y</td>\n",
       "      <td>0</td>\n",
       "      <td>67500.0</td>\n",
       "      <td>135000.0</td>\n",
       "      <td>6750.0</td>\n",
       "      <td>...</td>\n",
       "      <td>0</td>\n",
       "      <td>0</td>\n",
       "      <td>0</td>\n",
       "      <td>0</td>\n",
       "      <td>0.0</td>\n",
       "      <td>0.0</td>\n",
       "      <td>0.0</td>\n",
       "      <td>0.0</td>\n",
       "      <td>0.0</td>\n",
       "      <td>0.0</td>\n",
       "    </tr>\n",
       "    <tr>\n",
       "      <th>3</th>\n",
       "      <td>100006</td>\n",
       "      <td>0</td>\n",
       "      <td>Cash loans</td>\n",
       "      <td>F</td>\n",
       "      <td>N</td>\n",
       "      <td>Y</td>\n",
       "      <td>0</td>\n",
       "      <td>135000.0</td>\n",
       "      <td>312682.5</td>\n",
       "      <td>29686.5</td>\n",
       "      <td>...</td>\n",
       "      <td>0</td>\n",
       "      <td>0</td>\n",
       "      <td>0</td>\n",
       "      <td>0</td>\n",
       "      <td>NaN</td>\n",
       "      <td>NaN</td>\n",
       "      <td>NaN</td>\n",
       "      <td>NaN</td>\n",
       "      <td>NaN</td>\n",
       "      <td>NaN</td>\n",
       "    </tr>\n",
       "    <tr>\n",
       "      <th>4</th>\n",
       "      <td>100007</td>\n",
       "      <td>0</td>\n",
       "      <td>Cash loans</td>\n",
       "      <td>M</td>\n",
       "      <td>N</td>\n",
       "      <td>Y</td>\n",
       "      <td>0</td>\n",
       "      <td>121500.0</td>\n",
       "      <td>513000.0</td>\n",
       "      <td>21865.5</td>\n",
       "      <td>...</td>\n",
       "      <td>0</td>\n",
       "      <td>0</td>\n",
       "      <td>0</td>\n",
       "      <td>0</td>\n",
       "      <td>0.0</td>\n",
       "      <td>0.0</td>\n",
       "      <td>0.0</td>\n",
       "      <td>0.0</td>\n",
       "      <td>0.0</td>\n",
       "      <td>0.0</td>\n",
       "    </tr>\n",
       "  </tbody>\n",
       "</table>\n",
       "<p>5 rows × 122 columns</p>\n",
       "</div>"
      ],
      "text/plain": [
       "   SK_ID_CURR  TARGET NAME_CONTRACT_TYPE CODE_GENDER FLAG_OWN_CAR  \\\n",
       "0      100002       1         Cash loans           M            N   \n",
       "1      100003       0         Cash loans           F            N   \n",
       "2      100004       0    Revolving loans           M            Y   \n",
       "3      100006       0         Cash loans           F            N   \n",
       "4      100007       0         Cash loans           M            N   \n",
       "\n",
       "  FLAG_OWN_REALTY  CNT_CHILDREN  AMT_INCOME_TOTAL  AMT_CREDIT  AMT_ANNUITY  \\\n",
       "0               Y             0          202500.0    406597.5      24700.5   \n",
       "1               N             0          270000.0   1293502.5      35698.5   \n",
       "2               Y             0           67500.0    135000.0       6750.0   \n",
       "3               Y             0          135000.0    312682.5      29686.5   \n",
       "4               Y             0          121500.0    513000.0      21865.5   \n",
       "\n",
       "   ...  FLAG_DOCUMENT_18 FLAG_DOCUMENT_19 FLAG_DOCUMENT_20 FLAG_DOCUMENT_21  \\\n",
       "0  ...                 0                0                0                0   \n",
       "1  ...                 0                0                0                0   \n",
       "2  ...                 0                0                0                0   \n",
       "3  ...                 0                0                0                0   \n",
       "4  ...                 0                0                0                0   \n",
       "\n",
       "  AMT_REQ_CREDIT_BUREAU_HOUR AMT_REQ_CREDIT_BUREAU_DAY  \\\n",
       "0                        0.0                       0.0   \n",
       "1                        0.0                       0.0   \n",
       "2                        0.0                       0.0   \n",
       "3                        NaN                       NaN   \n",
       "4                        0.0                       0.0   \n",
       "\n",
       "   AMT_REQ_CREDIT_BUREAU_WEEK  AMT_REQ_CREDIT_BUREAU_MON  \\\n",
       "0                         0.0                        0.0   \n",
       "1                         0.0                        0.0   \n",
       "2                         0.0                        0.0   \n",
       "3                         NaN                        NaN   \n",
       "4                         0.0                        0.0   \n",
       "\n",
       "   AMT_REQ_CREDIT_BUREAU_QRT  AMT_REQ_CREDIT_BUREAU_YEAR  \n",
       "0                        0.0                         1.0  \n",
       "1                        0.0                         0.0  \n",
       "2                        0.0                         0.0  \n",
       "3                        NaN                         NaN  \n",
       "4                        0.0                         0.0  \n",
       "\n",
       "[5 rows x 122 columns]"
      ]
     },
     "execution_count": 3,
     "metadata": {},
     "output_type": "execute_result"
    }
   ],
   "source": [
    "# Importing the dataset\n",
    "application_data = pd.read_csv(r\"C:\\Users\\sesa505163\\Downloads\\application_data.csv\")\n",
    "print(application_data.shape)\n",
    "application_data.head()"
   ]
  },
  {
   "attachments": {},
   "cell_type": "markdown",
   "metadata": {},
   "source": [
    "The main objective of this study is to identify patterns which indicate if a client has difficulty in paying their installments. To know the driving factors (or driver variables) behind loan default i.e. the variables which are strong indicators of default. "
   ]
  },
  {
   "cell_type": "code",
   "execution_count": 4,
   "metadata": {},
   "outputs": [],
   "source": [
    "# Steps to find the missing values\n",
    "\n",
    "# Calculating the total number of missing values\n",
    "missing_values = application_data.isnull().sum()\n",
    "\n",
    "# Calculating the % of the missing values\n",
    "missing_value_percentage = 100 * application_data.isnull().sum() / len(application_data)\n",
    "\n",
    "# Concatinating the two tables\n",
    "missing_value_table = pd.concat([missing_values, missing_value_percentage], axis=1)\n",
    "\n",
    "# Renameing the column names\n",
    "missing_value_table_columns = missing_value_table.rename(columns={0: 'Number of Missing Values', 1: '% of Total Missing Values'})\n",
    "\n",
    "# Display the values in sorting order\n",
    "missing_value_table_columns = missing_value_table_columns[missing_value_table_columns.iloc[:, 1] != 0].sort_values('% of Total Missing Values', ascending=False).round(1)\n",
    "# print(\"Total number of missing columns are: \" + str(missing_value_table_columns.shape[0]))\n",
    "# print(missing_value_table_columns.head(100))"
   ]
  },
  {
   "cell_type": "code",
   "execution_count": 5,
   "metadata": {},
   "outputs": [],
   "source": [
    "# Deleting the Columns for which the missing value is greater than 50%\n",
    "df = application_data.loc[:, (application_data.isnull().sum() <= len(application_data)/2)]\n",
    "# df.columns"
   ]
  },
  {
   "cell_type": "markdown",
   "metadata": {},
   "source": [
    "In general, the missing values issues will happen when there are no data provided/not exists for one or more items. And this is a major problem and can be represented as NAN or None. And to overcome this issue we can treat by using some built-in methods in which the total value doesnt change. \n",
    "Few built-in methods can be used :- notnull(), isnull(), replace(), dropna().\n",
    "We can use isnull() or notnull() to find the missing values in the given dataset\n",
    "We can even use mean and median"
   ]
  },
  {
   "cell_type": "code",
   "execution_count": 6,
   "metadata": {},
   "outputs": [
    {
     "data": {
      "image/png": "[encoded data removed]",
      "text/plain": [
       "<Figure size 432x288 with 1 Axes>"
      ]
     },
     "metadata": {
      "needs_background": "light"
     },
     "output_type": "display_data"
    }
   ],
   "source": [
    "application_data['TARGET'].astype(int).plot.hist();"
   ]
  },
  {
   "cell_type": "markdown",
   "metadata": {},
   "source": [
    "The graph shows that around 25000 (8%) of the total values are those who make defaults and around 280000 are those who do not make defaults."
   ]
  },
  {
   "cell_type": "code",
   "execution_count": 7,
   "metadata": {},
   "outputs": [],
   "source": [
    "# Spliting the Dataframe into two categories \"Target = 0\" \n",
    "df0 = df[df['TARGET'] == 0]\n",
    "# print (df0)"
   ]
  },
  {
   "cell_type": "code",
   "execution_count": 8,
   "metadata": {},
   "outputs": [],
   "source": [
    "# Spliting the Dataframe into two categories \"Target = 1\" , \n",
    "df1 = df[df['TARGET'] == 1]\n",
    "# print (df1)"
   ]
  },
  {
   "cell_type": "code",
   "execution_count": 9,
   "metadata": {},
   "outputs": [
    {
     "data": {
      "text/html": [
       "<div>\n",
       "<style scoped>\n",
       "    .dataframe tbody tr th:only-of-type {\n",
       "        vertical-align: middle;\n",
       "    }\n",
       "\n",
       "    .dataframe tbody tr th {\n",
       "        vertical-align: top;\n",
       "    }\n",
       "\n",
       "    .dataframe thead th {\n",
       "        text-align: right;\n",
       "    }\n",
       "</style>\n",
       "<table border=\"1\" class=\"dataframe\">\n",
       "  <thead>\n",
       "    <tr style=\"text-align: right;\">\n",
       "      <th></th>\n",
       "      <th>SK_ID_CURR</th>\n",
       "      <th>TARGET</th>\n",
       "      <th>CNT_CHILDREN</th>\n",
       "      <th>AMT_INCOME_TOTAL</th>\n",
       "      <th>AMT_CREDIT</th>\n",
       "      <th>AMT_ANNUITY</th>\n",
       "      <th>AMT_GOODS_PRICE</th>\n",
       "      <th>REGION_POPULATION_RELATIVE</th>\n",
       "      <th>DAYS_BIRTH</th>\n",
       "      <th>DAYS_EMPLOYED</th>\n",
       "      <th>...</th>\n",
       "      <th>FLAG_DOCUMENT_18</th>\n",
       "      <th>FLAG_DOCUMENT_19</th>\n",
       "      <th>FLAG_DOCUMENT_20</th>\n",
       "      <th>FLAG_DOCUMENT_21</th>\n",
       "      <th>AMT_REQ_CREDIT_BUREAU_HOUR</th>\n",
       "      <th>AMT_REQ_CREDIT_BUREAU_DAY</th>\n",
       "      <th>AMT_REQ_CREDIT_BUREAU_WEEK</th>\n",
       "      <th>AMT_REQ_CREDIT_BUREAU_MON</th>\n",
       "      <th>AMT_REQ_CREDIT_BUREAU_QRT</th>\n",
       "      <th>AMT_REQ_CREDIT_BUREAU_YEAR</th>\n",
       "    </tr>\n",
       "  </thead>\n",
       "  <tbody>\n",
       "    <tr>\n",
       "      <th>count</th>\n",
       "      <td>24825.000000</td>\n",
       "      <td>24825.0</td>\n",
       "      <td>24825.000000</td>\n",
       "      <td>2.482500e+04</td>\n",
       "      <td>2.482500e+04</td>\n",
       "      <td>24825.000000</td>\n",
       "      <td>2.480400e+04</td>\n",
       "      <td>24825.000000</td>\n",
       "      <td>24825.000000</td>\n",
       "      <td>24825.000000</td>\n",
       "      <td>...</td>\n",
       "      <td>24825.000000</td>\n",
       "      <td>24825.000000</td>\n",
       "      <td>24825.000000</td>\n",
       "      <td>24825.000000</td>\n",
       "      <td>20533.000000</td>\n",
       "      <td>20533.000000</td>\n",
       "      <td>20533.000000</td>\n",
       "      <td>20533.000000</td>\n",
       "      <td>20533.000000</td>\n",
       "      <td>20533.000000</td>\n",
       "    </tr>\n",
       "    <tr>\n",
       "      <th>mean</th>\n",
       "      <td>277449.167936</td>\n",
       "      <td>1.0</td>\n",
       "      <td>0.463807</td>\n",
       "      <td>1.656118e+05</td>\n",
       "      <td>5.577785e+05</td>\n",
       "      <td>26481.744290</td>\n",
       "      <td>4.889724e+05</td>\n",
       "      <td>0.019131</td>\n",
       "      <td>-14884.828077</td>\n",
       "      <td>42394.675448</td>\n",
       "      <td>...</td>\n",
       "      <td>0.005720</td>\n",
       "      <td>0.000483</td>\n",
       "      <td>0.000524</td>\n",
       "      <td>0.000564</td>\n",
       "      <td>0.006672</td>\n",
       "      <td>0.008036</td>\n",
       "      <td>0.034919</td>\n",
       "      <td>0.227926</td>\n",
       "      <td>0.259923</td>\n",
       "      <td>2.028783</td>\n",
       "    </tr>\n",
       "    <tr>\n",
       "      <th>std</th>\n",
       "      <td>102383.123458</td>\n",
       "      <td>0.0</td>\n",
       "      <td>0.756903</td>\n",
       "      <td>7.466770e+05</td>\n",
       "      <td>3.464332e+05</td>\n",
       "      <td>12450.676999</td>\n",
       "      <td>3.116365e+05</td>\n",
       "      <td>0.011905</td>\n",
       "      <td>4192.844583</td>\n",
       "      <td>119484.634253</td>\n",
       "      <td>...</td>\n",
       "      <td>0.075416</td>\n",
       "      <td>0.021981</td>\n",
       "      <td>0.022878</td>\n",
       "      <td>0.023741</td>\n",
       "      <td>0.084926</td>\n",
       "      <td>0.106682</td>\n",
       "      <td>0.203941</td>\n",
       "      <td>0.745116</td>\n",
       "      <td>0.643789</td>\n",
       "      <td>1.934063</td>\n",
       "    </tr>\n",
       "    <tr>\n",
       "      <th>min</th>\n",
       "      <td>100002.000000</td>\n",
       "      <td>1.0</td>\n",
       "      <td>0.000000</td>\n",
       "      <td>2.565000e+04</td>\n",
       "      <td>4.500000e+04</td>\n",
       "      <td>2722.500000</td>\n",
       "      <td>4.500000e+04</td>\n",
       "      <td>0.000533</td>\n",
       "      <td>-25168.000000</td>\n",
       "      <td>-16069.000000</td>\n",
       "      <td>...</td>\n",
       "      <td>0.000000</td>\n",
       "      <td>0.000000</td>\n",
       "      <td>0.000000</td>\n",
       "      <td>0.000000</td>\n",
       "      <td>0.000000</td>\n",
       "      <td>0.000000</td>\n",
       "      <td>0.000000</td>\n",
       "      <td>0.000000</td>\n",
       "      <td>0.000000</td>\n",
       "      <td>0.000000</td>\n",
       "    </tr>\n",
       "    <tr>\n",
       "      <th>25%</th>\n",
       "      <td>189555.000000</td>\n",
       "      <td>1.0</td>\n",
       "      <td>0.000000</td>\n",
       "      <td>1.125000e+05</td>\n",
       "      <td>2.844000e+05</td>\n",
       "      <td>17361.000000</td>\n",
       "      <td>2.385000e+05</td>\n",
       "      <td>0.009630</td>\n",
       "      <td>-18037.000000</td>\n",
       "      <td>-2156.000000</td>\n",
       "      <td>...</td>\n",
       "      <td>0.000000</td>\n",
       "      <td>0.000000</td>\n",
       "      <td>0.000000</td>\n",
       "      <td>0.000000</td>\n",
       "      <td>0.000000</td>\n",
       "      <td>0.000000</td>\n",
       "      <td>0.000000</td>\n",
       "      <td>0.000000</td>\n",
       "      <td>0.000000</td>\n",
       "      <td>1.000000</td>\n",
       "    </tr>\n",
       "    <tr>\n",
       "      <th>50%</th>\n",
       "      <td>276291.000000</td>\n",
       "      <td>1.0</td>\n",
       "      <td>0.000000</td>\n",
       "      <td>1.350000e+05</td>\n",
       "      <td>4.975200e+05</td>\n",
       "      <td>25263.000000</td>\n",
       "      <td>4.500000e+05</td>\n",
       "      <td>0.018634</td>\n",
       "      <td>-14282.000000</td>\n",
       "      <td>-1034.000000</td>\n",
       "      <td>...</td>\n",
       "      <td>0.000000</td>\n",
       "      <td>0.000000</td>\n",
       "      <td>0.000000</td>\n",
       "      <td>0.000000</td>\n",
       "      <td>0.000000</td>\n",
       "      <td>0.000000</td>\n",
       "      <td>0.000000</td>\n",
       "      <td>0.000000</td>\n",
       "      <td>0.000000</td>\n",
       "      <td>2.000000</td>\n",
       "    </tr>\n",
       "    <tr>\n",
       "      <th>75%</th>\n",
       "      <td>366050.000000</td>\n",
       "      <td>1.0</td>\n",
       "      <td>1.000000</td>\n",
       "      <td>2.025000e+05</td>\n",
       "      <td>7.333155e+05</td>\n",
       "      <td>32976.000000</td>\n",
       "      <td>6.750000e+05</td>\n",
       "      <td>0.025164</td>\n",
       "      <td>-11396.000000</td>\n",
       "      <td>-379.000000</td>\n",
       "      <td>...</td>\n",
       "      <td>0.000000</td>\n",
       "      <td>0.000000</td>\n",
       "      <td>0.000000</td>\n",
       "      <td>0.000000</td>\n",
       "      <td>0.000000</td>\n",
       "      <td>0.000000</td>\n",
       "      <td>0.000000</td>\n",
       "      <td>0.000000</td>\n",
       "      <td>0.000000</td>\n",
       "      <td>3.000000</td>\n",
       "    </tr>\n",
       "    <tr>\n",
       "      <th>max</th>\n",
       "      <td>456254.000000</td>\n",
       "      <td>1.0</td>\n",
       "      <td>11.000000</td>\n",
       "      <td>1.170000e+08</td>\n",
       "      <td>4.027680e+06</td>\n",
       "      <td>149211.000000</td>\n",
       "      <td>3.600000e+06</td>\n",
       "      <td>0.072508</td>\n",
       "      <td>-7678.000000</td>\n",
       "      <td>365243.000000</td>\n",
       "      <td>...</td>\n",
       "      <td>1.000000</td>\n",
       "      <td>1.000000</td>\n",
       "      <td>1.000000</td>\n",
       "      <td>1.000000</td>\n",
       "      <td>2.000000</td>\n",
       "      <td>4.000000</td>\n",
       "      <td>6.000000</td>\n",
       "      <td>17.000000</td>\n",
       "      <td>19.000000</td>\n",
       "      <td>22.000000</td>\n",
       "    </tr>\n",
       "  </tbody>\n",
       "</table>\n",
       "<p>8 rows × 68 columns</p>\n",
       "</div>"
      ],
      "text/plain": [
       "          SK_ID_CURR   TARGET  CNT_CHILDREN  AMT_INCOME_TOTAL    AMT_CREDIT  \\\n",
       "count   24825.000000  24825.0  24825.000000      2.482500e+04  2.482500e+04   \n",
       "mean   277449.167936      1.0      0.463807      1.656118e+05  5.577785e+05   \n",
       "std    102383.123458      0.0      0.756903      7.466770e+05  3.464332e+05   \n",
       "min    100002.000000      1.0      0.000000      2.565000e+04  4.500000e+04   \n",
       "25%    189555.000000      1.0      0.000000      1.125000e+05  2.844000e+05   \n",
       "50%    276291.000000      1.0      0.000000      1.350000e+05  4.975200e+05   \n",
       "75%    366050.000000      1.0      1.000000      2.025000e+05  7.333155e+05   \n",
       "max    456254.000000      1.0     11.000000      1.170000e+08  4.027680e+06   \n",
       "\n",
       "         AMT_ANNUITY  AMT_GOODS_PRICE  REGION_POPULATION_RELATIVE  \\\n",
       "count   24825.000000     2.480400e+04                24825.000000   \n",
       "mean    26481.744290     4.889724e+05                    0.019131   \n",
       "std     12450.676999     3.116365e+05                    0.011905   \n",
       "min      2722.500000     4.500000e+04                    0.000533   \n",
       "25%     17361.000000     2.385000e+05                    0.009630   \n",
       "50%     25263.000000     4.500000e+05                    0.018634   \n",
       "75%     32976.000000     6.750000e+05                    0.025164   \n",
       "max    149211.000000     3.600000e+06                    0.072508   \n",
       "\n",
       "         DAYS_BIRTH  DAYS_EMPLOYED  ...  FLAG_DOCUMENT_18  FLAG_DOCUMENT_19  \\\n",
       "count  24825.000000   24825.000000  ...      24825.000000      24825.000000   \n",
       "mean  -14884.828077   42394.675448  ...          0.005720          0.000483   \n",
       "std     4192.844583  119484.634253  ...          0.075416          0.021981   \n",
       "min   -25168.000000  -16069.000000  ...          0.000000          0.000000   \n",
       "25%   -18037.000000   -2156.000000  ...          0.000000          0.000000   \n",
       "50%   -14282.000000   -1034.000000  ...          0.000000          0.000000   \n",
       "75%   -11396.000000    -379.000000  ...          0.000000          0.000000   \n",
       "max    -7678.000000  365243.000000  ...          1.000000          1.000000   \n",
       "\n",
       "       FLAG_DOCUMENT_20  FLAG_DOCUMENT_21  AMT_REQ_CREDIT_BUREAU_HOUR  \\\n",
       "count      24825.000000      24825.000000                20533.000000   \n",
       "mean           0.000524          0.000564                    0.006672   \n",
       "std            0.022878          0.023741                    0.084926   \n",
       "min            0.000000          0.000000                    0.000000   \n",
       "25%            0.000000          0.000000                    0.000000   \n",
       "50%            0.000000          0.000000                    0.000000   \n",
       "75%            0.000000          0.000000                    0.000000   \n",
       "max            1.000000          1.000000                    2.000000   \n",
       "\n",
       "       AMT_REQ_CREDIT_BUREAU_DAY  AMT_REQ_CREDIT_BUREAU_WEEK  \\\n",
       "count               20533.000000                20533.000000   \n",
       "mean                    0.008036                    0.034919   \n",
       "std                     0.106682                    0.203941   \n",
       "min                     0.000000                    0.000000   \n",
       "25%                     0.000000                    0.000000   \n",
       "50%                     0.000000                    0.000000   \n",
       "75%                     0.000000                    0.000000   \n",
       "max                     4.000000                    6.000000   \n",
       "\n",
       "       AMT_REQ_CREDIT_BUREAU_MON  AMT_REQ_CREDIT_BUREAU_QRT  \\\n",
       "count               20533.000000               20533.000000   \n",
       "mean                    0.227926                   0.259923   \n",
       "std                     0.745116                   0.643789   \n",
       "min                     0.000000                   0.000000   \n",
       "25%                     0.000000                   0.000000   \n",
       "50%                     0.000000                   0.000000   \n",
       "75%                     0.000000                   0.000000   \n",
       "max                    17.000000                  19.000000   \n",
       "\n",
       "       AMT_REQ_CREDIT_BUREAU_YEAR  \n",
       "count                20533.000000  \n",
       "mean                     2.028783  \n",
       "std                      1.934063  \n",
       "min                      0.000000  \n",
       "25%                      1.000000  \n",
       "50%                      2.000000  \n",
       "75%                      3.000000  \n",
       "max                     22.000000  \n",
       "\n",
       "[8 rows x 68 columns]"
      ]
     },
     "execution_count": 9,
     "metadata": {},
     "output_type": "execute_result"
    }
   ],
   "source": [
    "df1.describe()"
   ]
  },
  {
   "cell_type": "code",
   "execution_count": 10,
   "metadata": {},
   "outputs": [
    {
     "data": {
      "text/plain": [
       "int64      41\n",
       "float64    27\n",
       "object     13\n",
       "dtype: int64"
      ]
     },
     "execution_count": 10,
     "metadata": {},
     "output_type": "execute_result"
    }
   ],
   "source": [
    "df1.dtypes.value_counts()"
   ]
  },
  {
   "cell_type": "code",
   "execution_count": 11,
   "metadata": {},
   "outputs": [
    {
     "data": {
      "text/plain": [
       "NAME_CONTRACT_TYPE             2\n",
       "CODE_GENDER                    2\n",
       "FLAG_OWN_CAR                   2\n",
       "FLAG_OWN_REALTY                2\n",
       "NAME_TYPE_SUITE                7\n",
       "NAME_INCOME_TYPE               6\n",
       "NAME_EDUCATION_TYPE            5\n",
       "NAME_FAMILY_STATUS             5\n",
       "NAME_HOUSING_TYPE              6\n",
       "OCCUPATION_TYPE               18\n",
       "WEEKDAY_APPR_PROCESS_START     7\n",
       "ORGANIZATION_TYPE             58\n",
       "EMERGENCYSTATE_MODE            2\n",
       "dtype: int64"
      ]
     },
     "execution_count": 11,
     "metadata": {},
     "output_type": "execute_result"
    }
   ],
   "source": [
    "# Number of unique classes in each object column\n",
    "df1.select_dtypes('object').apply(pd.Series.nunique, axis = 0)"
   ]
  },
  {
   "cell_type": "code",
   "execution_count": 12,
   "metadata": {},
   "outputs": [
    {
     "data": {
      "text/plain": [
       "count    24825.000000\n",
       "mean        40.780351\n",
       "std         11.487245\n",
       "min         21.035616\n",
       "25%         31.221918\n",
       "50%         39.128767\n",
       "75%         49.416438\n",
       "max         68.953425\n",
       "Name: DAYS_BIRTH, dtype: float64"
      ]
     },
     "execution_count": 12,
     "metadata": {},
     "output_type": "execute_result"
    }
   ],
   "source": [
    "(df1['DAYS_BIRTH'] / -365).describe()"
   ]
  },
  {
   "cell_type": "code",
   "execution_count": 13,
   "metadata": {},
   "outputs": [
    {
     "data": {
      "text/plain": [
       "-0.07823930830982712"
      ]
     },
     "execution_count": 13,
     "metadata": {},
     "output_type": "execute_result"
    }
   ],
   "source": [
    "# Find the correlation of the positive days since birth and target\n",
    "application_data['DAYS_BIRTH'] = abs(application_data['DAYS_BIRTH'])\n",
    "application_data['DAYS_BIRTH'].corr(application_data['TARGET'])"
   ]
  },
  {
   "cell_type": "markdown",
   "metadata": {},
   "source": [
    "The correlation between target and age is -0.078, which interprets that as the age of people increases people are less likely to make faults in repayment"
   ]
  },
  {
   "cell_type": "code",
   "execution_count": 14,
   "metadata": {},
   "outputs": [],
   "source": [
    "application_data['DOB_Years'] = (application_data['DAYS_BIRTH'] / 365)\n",
    "application_data['Years_Employed'] = (application_data['DAYS_EMPLOYED'] / 365)"
   ]
  },
  {
   "cell_type": "code",
   "execution_count": 15,
   "metadata": {},
   "outputs": [],
   "source": [
    "df1['DOB_Years'] = (df1['DAYS_BIRTH'] / -365)\n",
    "df1['Years_Employed'] = (df1['DAYS_EMPLOYED'] / -365)"
   ]
  },
  {
   "cell_type": "code",
   "execution_count": 16,
   "metadata": {},
   "outputs": [
    {
     "data": {
      "image/png": "[encoded data removed]",
      "text/plain": [
       "<Figure size 1440x720 with 1 Axes>"
      ]
     },
     "metadata": {
      "needs_background": "light"
     },
     "output_type": "display_data"
    }
   ],
   "source": [
    "#Here by looking at graph even though it is good visualization, however could not figure complete default rate with related related to target\n",
    "\n",
    "plt.figure(figsize = (20, 10))\n",
    "sns.kdeplot(application_data.loc[application_data['TARGET'] == 0, 'DAYS_BIRTH'] / 365, label='Target = 0')\n",
    "sns.kdeplot(application_data.loc[application_data['TARGET'] == 1, 'DAYS_BIRTH'] / 365, label='Target = 1')\n",
    "plt.title('Age Segmented');\n",
    "plt.xlabel('Age with target')\n",
    "plt.show()"
   ]
  },
  {
   "attachments": {},
   "cell_type": "markdown",
   "metadata": {},
   "source": [
    "Based on the above graph, we can see people with the age around 30-35 makes more number of defaults, So, this means while giving the loan to those whose age is 30-35, we have to take more precautions"
   ]
  },
  {
   "cell_type": "code",
   "execution_count": 17,
   "metadata": {},
   "outputs": [
    {
     "data": {
      "image/png": "[encoded data removed]",
      "text/plain": [
       "<Figure size 432x288 with 1 Axes>"
      ]
     },
     "metadata": {
      "needs_background": "light"
     },
     "output_type": "display_data"
    }
   ],
   "source": [
    "# Age in graph \n",
    "plt.hist(application_data['DOB_Years'], edgecolor = 'k', bins = 20)\n",
    "plt.title('Customers Age');\n",
    "plt.xlabel('Age in Years'); \n",
    "plt.ylabel('Number');"
   ]
  },
  {
   "cell_type": "markdown",
   "metadata": {},
   "source": [
    "As per the value we can conclude that as the age gets increased , the loan defaulter number is decreasing. Since we got the negative correlation value."
   ]
  },
  {
   "cell_type": "code",
   "execution_count": 18,
   "metadata": {},
   "outputs": [
    {
     "data": {
      "text/html": [
       "<div>\n",
       "<style scoped>\n",
       "    .dataframe tbody tr th:only-of-type {\n",
       "        vertical-align: middle;\n",
       "    }\n",
       "\n",
       "    .dataframe tbody tr th {\n",
       "        vertical-align: top;\n",
       "    }\n",
       "\n",
       "    .dataframe thead th {\n",
       "        text-align: right;\n",
       "    }\n",
       "</style>\n",
       "<table border=\"1\" class=\"dataframe\">\n",
       "  <thead>\n",
       "    <tr style=\"text-align: right;\">\n",
       "      <th></th>\n",
       "      <th>TARGET</th>\n",
       "      <th>DOB_Years</th>\n",
       "    </tr>\n",
       "  </thead>\n",
       "  <tbody>\n",
       "    <tr>\n",
       "      <th>count</th>\n",
       "      <td>307511.000000</td>\n",
       "      <td>307511.000000</td>\n",
       "    </tr>\n",
       "    <tr>\n",
       "      <th>mean</th>\n",
       "      <td>0.080729</td>\n",
       "      <td>43.936973</td>\n",
       "    </tr>\n",
       "    <tr>\n",
       "      <th>std</th>\n",
       "      <td>0.272419</td>\n",
       "      <td>11.956133</td>\n",
       "    </tr>\n",
       "    <tr>\n",
       "      <th>min</th>\n",
       "      <td>0.000000</td>\n",
       "      <td>20.517808</td>\n",
       "    </tr>\n",
       "    <tr>\n",
       "      <th>25%</th>\n",
       "      <td>0.000000</td>\n",
       "      <td>34.008219</td>\n",
       "    </tr>\n",
       "    <tr>\n",
       "      <th>50%</th>\n",
       "      <td>0.000000</td>\n",
       "      <td>43.150685</td>\n",
       "    </tr>\n",
       "    <tr>\n",
       "      <th>75%</th>\n",
       "      <td>0.000000</td>\n",
       "      <td>53.923288</td>\n",
       "    </tr>\n",
       "    <tr>\n",
       "      <th>max</th>\n",
       "      <td>1.000000</td>\n",
       "      <td>69.120548</td>\n",
       "    </tr>\n",
       "  </tbody>\n",
       "</table>\n",
       "</div>"
      ],
      "text/plain": [
       "              TARGET      DOB_Years\n",
       "count  307511.000000  307511.000000\n",
       "mean        0.080729      43.936973\n",
       "std         0.272419      11.956133\n",
       "min         0.000000      20.517808\n",
       "25%         0.000000      34.008219\n",
       "50%         0.000000      43.150685\n",
       "75%         0.000000      53.923288\n",
       "max         1.000000      69.120548"
      ]
     },
     "execution_count": 18,
     "metadata": {},
     "output_type": "execute_result"
    }
   ],
   "source": [
    "# For creating Bins on the Age field, we are creating the new dataframe\n",
    "df_age_bin = application_data[['TARGET', 'DOB_Years']]\n",
    "\n",
    "# Bin the age data\n",
    "df_age_bin['Years_of_Bin'] = pd.cut(df_age_bin['DOB_Years'], bins = np.linspace(20, 70, num = 11))\n",
    "\n",
    "df_age_bin.describe()"
   ]
  },
  {
   "cell_type": "code",
   "execution_count": 19,
   "metadata": {},
   "outputs": [
    {
     "data": {
      "text/html": [
       "<div>\n",
       "<style scoped>\n",
       "    .dataframe tbody tr th:only-of-type {\n",
       "        vertical-align: middle;\n",
       "    }\n",
       "\n",
       "    .dataframe tbody tr th {\n",
       "        vertical-align: top;\n",
       "    }\n",
       "\n",
       "    .dataframe thead th {\n",
       "        text-align: right;\n",
       "    }\n",
       "</style>\n",
       "<table border=\"1\" class=\"dataframe\">\n",
       "  <thead>\n",
       "    <tr style=\"text-align: right;\">\n",
       "      <th></th>\n",
       "      <th>TARGET</th>\n",
       "      <th>DOB_Years</th>\n",
       "    </tr>\n",
       "    <tr>\n",
       "      <th>Years_of_Bin</th>\n",
       "      <th></th>\n",
       "      <th></th>\n",
       "    </tr>\n",
       "  </thead>\n",
       "  <tbody>\n",
       "    <tr>\n",
       "      <th>(20.0, 25.0]</th>\n",
       "      <td>0.123036</td>\n",
       "      <td>23.377522</td>\n",
       "    </tr>\n",
       "    <tr>\n",
       "      <th>(25.0, 30.0]</th>\n",
       "      <td>0.111436</td>\n",
       "      <td>27.822518</td>\n",
       "    </tr>\n",
       "    <tr>\n",
       "      <th>(30.0, 35.0]</th>\n",
       "      <td>0.102814</td>\n",
       "      <td>32.479037</td>\n",
       "    </tr>\n",
       "    <tr>\n",
       "      <th>(35.0, 40.0]</th>\n",
       "      <td>0.089414</td>\n",
       "      <td>37.555913</td>\n",
       "    </tr>\n",
       "    <tr>\n",
       "      <th>(40.0, 45.0]</th>\n",
       "      <td>0.078491</td>\n",
       "      <td>42.459346</td>\n",
       "    </tr>\n",
       "    <tr>\n",
       "      <th>(45.0, 50.0]</th>\n",
       "      <td>0.074171</td>\n",
       "      <td>47.462741</td>\n",
       "    </tr>\n",
       "    <tr>\n",
       "      <th>(50.0, 55.0]</th>\n",
       "      <td>0.066968</td>\n",
       "      <td>52.593136</td>\n",
       "    </tr>\n",
       "    <tr>\n",
       "      <th>(55.0, 60.0]</th>\n",
       "      <td>0.055314</td>\n",
       "      <td>57.491131</td>\n",
       "    </tr>\n",
       "    <tr>\n",
       "      <th>(60.0, 65.0]</th>\n",
       "      <td>0.052737</td>\n",
       "      <td>62.412459</td>\n",
       "    </tr>\n",
       "    <tr>\n",
       "      <th>(65.0, 70.0]</th>\n",
       "      <td>0.037270</td>\n",
       "      <td>66.555108</td>\n",
       "    </tr>\n",
       "  </tbody>\n",
       "</table>\n",
       "</div>"
      ],
      "text/plain": [
       "                TARGET  DOB_Years\n",
       "Years_of_Bin                     \n",
       "(20.0, 25.0]  0.123036  23.377522\n",
       "(25.0, 30.0]  0.111436  27.822518\n",
       "(30.0, 35.0]  0.102814  32.479037\n",
       "(35.0, 40.0]  0.089414  37.555913\n",
       "(40.0, 45.0]  0.078491  42.459346\n",
       "(45.0, 50.0]  0.074171  47.462741\n",
       "(50.0, 55.0]  0.066968  52.593136\n",
       "(55.0, 60.0]  0.055314  57.491131\n",
       "(60.0, 65.0]  0.052737  62.412459\n",
       "(65.0, 70.0]  0.037270  66.555108"
      ]
     },
     "execution_count": 19,
     "metadata": {},
     "output_type": "execute_result"
    }
   ],
   "source": [
    "# Group by the bin and calculating their  averages\n",
    "\n",
    "bin_age_group  = df_age_bin.groupby('Years_of_Bin').mean()\n",
    "bin_age_group"
   ]
  },
  {
   "cell_type": "code",
   "execution_count": 20,
   "metadata": {
    "scrolled": false
   },
   "outputs": [
    {
     "data": {
      "text/plain": [
       "([0, 1, 2, 3, 4, 5, 6, 7, 8, 9], <a list of 10 Text xticklabel objects>)"
      ]
     },
     "execution_count": 20,
     "metadata": {},
     "output_type": "execute_result"
    },
    {
     "data": {
      "image/png": "[encoded data removed]",
      "text/plain": [
       "<Figure size 432x288 with 1 Axes>"
      ]
     },
     "metadata": {
      "needs_background": "light"
     },
     "output_type": "display_data"
    }
   ],
   "source": [
    "# Graph the age bins and the average of the target as a bar plot\n",
    "plt.bar(bin_age_group.index.astype(str), 100 * bin_age_group['TARGET'])\n",
    "\n",
    "# Plot labeling\n",
    "plt.title('Failure to Repay by Age');\n",
    "plt.xlabel('Age Group in Years');\n",
    "plt.ylabel('Defaulters in %')\n",
    "plt.xticks(rotation = 90)\n"
   ]
  },
  {
   "cell_type": "markdown",
   "metadata": {},
   "source": [
    "The given shows the percentage distribution of defaulters among different age groups. Also it shows that at higher ages people are usually less likely to make faults in repayment."
   ]
  },
  {
   "cell_type": "code",
   "execution_count": 21,
   "metadata": {},
   "outputs": [
    {
     "data": {
      "text/html": [
       "<div>\n",
       "<style scoped>\n",
       "    .dataframe tbody tr th:only-of-type {\n",
       "        vertical-align: middle;\n",
       "    }\n",
       "\n",
       "    .dataframe tbody tr th {\n",
       "        vertical-align: top;\n",
       "    }\n",
       "\n",
       "    .dataframe thead th {\n",
       "        text-align: right;\n",
       "    }\n",
       "</style>\n",
       "<table border=\"1\" class=\"dataframe\">\n",
       "  <thead>\n",
       "    <tr style=\"text-align: right;\">\n",
       "      <th></th>\n",
       "      <th>TARGET</th>\n",
       "      <th>AMT_INCOME_TOTAL</th>\n",
       "    </tr>\n",
       "  </thead>\n",
       "  <tbody>\n",
       "    <tr>\n",
       "      <th>count</th>\n",
       "      <td>307511.000000</td>\n",
       "      <td>3.075110e+05</td>\n",
       "    </tr>\n",
       "    <tr>\n",
       "      <th>mean</th>\n",
       "      <td>0.080729</td>\n",
       "      <td>1.687979e+05</td>\n",
       "    </tr>\n",
       "    <tr>\n",
       "      <th>std</th>\n",
       "      <td>0.272419</td>\n",
       "      <td>2.371231e+05</td>\n",
       "    </tr>\n",
       "    <tr>\n",
       "      <th>min</th>\n",
       "      <td>0.000000</td>\n",
       "      <td>2.565000e+04</td>\n",
       "    </tr>\n",
       "    <tr>\n",
       "      <th>25%</th>\n",
       "      <td>0.000000</td>\n",
       "      <td>1.125000e+05</td>\n",
       "    </tr>\n",
       "    <tr>\n",
       "      <th>50%</th>\n",
       "      <td>0.000000</td>\n",
       "      <td>1.471500e+05</td>\n",
       "    </tr>\n",
       "    <tr>\n",
       "      <th>75%</th>\n",
       "      <td>0.000000</td>\n",
       "      <td>2.025000e+05</td>\n",
       "    </tr>\n",
       "    <tr>\n",
       "      <th>max</th>\n",
       "      <td>1.000000</td>\n",
       "      <td>1.170000e+08</td>\n",
       "    </tr>\n",
       "  </tbody>\n",
       "</table>\n",
       "</div>"
      ],
      "text/plain": [
       "              TARGET  AMT_INCOME_TOTAL\n",
       "count  307511.000000      3.075110e+05\n",
       "mean        0.080729      1.687979e+05\n",
       "std         0.272419      2.371231e+05\n",
       "min         0.000000      2.565000e+04\n",
       "25%         0.000000      1.125000e+05\n",
       "50%         0.000000      1.471500e+05\n",
       "75%         0.000000      2.025000e+05\n",
       "max         1.000000      1.170000e+08"
      ]
     },
     "execution_count": 21,
     "metadata": {},
     "output_type": "execute_result"
    }
   ],
   "source": [
    "application_data['AMT_INCOME_TOTAL'] = application_data['AMT_INCOME_TOTAL'].astype(float)\n",
    "# For creating Bins on the Age field, we are creating the new dataframe\n",
    "df_amt_bin = application_data[['TARGET', 'AMT_INCOME_TOTAL']]\n",
    "\n",
    "# Bin the age data\n",
    "df_amt_bin['Amt_Income_Bin'] = pd.cut(df_amt_bin['AMT_INCOME_TOTAL'], bins = np.linspace(45000, 900000, num = 20))\n",
    "\n",
    "df_amt_bin.describe()"
   ]
  },
  {
   "cell_type": "code",
   "execution_count": 22,
   "metadata": {},
   "outputs": [],
   "source": [
    "# Group by the bin and calculating their  averages\n",
    "bin_amt_group  = df_amt_bin.groupby('Amt_Income_Bin').mean()\n",
    "#bin_amt_group"
   ]
  },
  {
   "cell_type": "code",
   "execution_count": 23,
   "metadata": {},
   "outputs": [
    {
     "data": {
      "text/plain": [
       "([0, 1, 2, 3, 4, 5, 6, 7, 8, 9, 10, 11, 12, 13, 14, 15, 16, 17, 18],\n",
       " <a list of 19 Text xticklabel objects>)"
      ]
     },
     "execution_count": 23,
     "metadata": {},
     "output_type": "execute_result"
    },
    {
     "data": {
      "image/png": "[encoded data removed]",
      "text/plain": [
       "<Figure size 1440x720 with 1 Axes>"
      ]
     },
     "metadata": {
      "needs_background": "light"
     },
     "output_type": "display_data"
    }
   ],
   "source": [
    "plt.figure(figsize = (20,10))\n",
    "# Graph the age bins and the average of the target as a bar plot\n",
    "plt.bar(bin_amt_group.index.astype(str), 100 * bin_amt_group['TARGET'])\n",
    "\n",
    "# Plot labeling\n",
    "plt.title('Failure to Repay by Income');\n",
    "plt.xlabel('Income Group ');\n",
    "plt.ylabel('Defaulters in %')\n",
    "plt.xticks(rotation = 90)"
   ]
  },
  {
   "cell_type": "markdown",
   "metadata": {},
   "source": [
    "We can see a pattern that people with less salary are likely to make more defaults in making repayment of loan"
   ]
  },
  {
   "cell_type": "code",
   "execution_count": 24,
   "metadata": {},
   "outputs": [
    {
     "data": {
      "text/html": [
       "<div>\n",
       "<style scoped>\n",
       "    .dataframe tbody tr th:only-of-type {\n",
       "        vertical-align: middle;\n",
       "    }\n",
       "\n",
       "    .dataframe tbody tr th {\n",
       "        vertical-align: top;\n",
       "    }\n",
       "\n",
       "    .dataframe thead th {\n",
       "        text-align: right;\n",
       "    }\n",
       "</style>\n",
       "<table border=\"1\" class=\"dataframe\">\n",
       "  <thead>\n",
       "    <tr style=\"text-align: right;\">\n",
       "      <th></th>\n",
       "      <th>SK_ID_CURR</th>\n",
       "      <th>TARGET</th>\n",
       "      <th>CNT_CHILDREN</th>\n",
       "      <th>AMT_INCOME_TOTAL</th>\n",
       "      <th>AMT_CREDIT</th>\n",
       "      <th>AMT_ANNUITY</th>\n",
       "      <th>AMT_GOODS_PRICE</th>\n",
       "      <th>REGION_POPULATION_RELATIVE</th>\n",
       "      <th>DAYS_BIRTH</th>\n",
       "      <th>DAYS_EMPLOYED</th>\n",
       "      <th>...</th>\n",
       "      <th>FLAG_DOCUMENT_20</th>\n",
       "      <th>FLAG_DOCUMENT_21</th>\n",
       "      <th>AMT_REQ_CREDIT_BUREAU_HOUR</th>\n",
       "      <th>AMT_REQ_CREDIT_BUREAU_DAY</th>\n",
       "      <th>AMT_REQ_CREDIT_BUREAU_WEEK</th>\n",
       "      <th>AMT_REQ_CREDIT_BUREAU_MON</th>\n",
       "      <th>AMT_REQ_CREDIT_BUREAU_QRT</th>\n",
       "      <th>AMT_REQ_CREDIT_BUREAU_YEAR</th>\n",
       "      <th>DOB_Years</th>\n",
       "      <th>Years_Employed</th>\n",
       "    </tr>\n",
       "  </thead>\n",
       "  <tbody>\n",
       "    <tr>\n",
       "      <th>count</th>\n",
       "      <td>24825.000000</td>\n",
       "      <td>24825.0</td>\n",
       "      <td>24825.000000</td>\n",
       "      <td>2.482500e+04</td>\n",
       "      <td>2.482500e+04</td>\n",
       "      <td>24825.000000</td>\n",
       "      <td>2.480400e+04</td>\n",
       "      <td>24825.000000</td>\n",
       "      <td>24825.000000</td>\n",
       "      <td>24825.000000</td>\n",
       "      <td>...</td>\n",
       "      <td>24825.000000</td>\n",
       "      <td>24825.000000</td>\n",
       "      <td>20533.000000</td>\n",
       "      <td>20533.000000</td>\n",
       "      <td>20533.000000</td>\n",
       "      <td>20533.000000</td>\n",
       "      <td>20533.000000</td>\n",
       "      <td>20533.000000</td>\n",
       "      <td>24825.000000</td>\n",
       "      <td>24825.000000</td>\n",
       "    </tr>\n",
       "    <tr>\n",
       "      <th>mean</th>\n",
       "      <td>277449.167936</td>\n",
       "      <td>1.0</td>\n",
       "      <td>0.463807</td>\n",
       "      <td>1.656118e+05</td>\n",
       "      <td>5.577785e+05</td>\n",
       "      <td>26481.744290</td>\n",
       "      <td>4.889724e+05</td>\n",
       "      <td>0.019131</td>\n",
       "      <td>-14884.828077</td>\n",
       "      <td>42394.675448</td>\n",
       "      <td>...</td>\n",
       "      <td>0.000524</td>\n",
       "      <td>0.000564</td>\n",
       "      <td>0.006672</td>\n",
       "      <td>0.008036</td>\n",
       "      <td>0.034919</td>\n",
       "      <td>0.227926</td>\n",
       "      <td>0.259923</td>\n",
       "      <td>2.028783</td>\n",
       "      <td>40.780351</td>\n",
       "      <td>-116.149796</td>\n",
       "    </tr>\n",
       "    <tr>\n",
       "      <th>std</th>\n",
       "      <td>102383.123458</td>\n",
       "      <td>0.0</td>\n",
       "      <td>0.756903</td>\n",
       "      <td>7.466770e+05</td>\n",
       "      <td>3.464332e+05</td>\n",
       "      <td>12450.676999</td>\n",
       "      <td>3.116365e+05</td>\n",
       "      <td>0.011905</td>\n",
       "      <td>4192.844583</td>\n",
       "      <td>119484.634253</td>\n",
       "      <td>...</td>\n",
       "      <td>0.022878</td>\n",
       "      <td>0.023741</td>\n",
       "      <td>0.084926</td>\n",
       "      <td>0.106682</td>\n",
       "      <td>0.203941</td>\n",
       "      <td>0.745116</td>\n",
       "      <td>0.643789</td>\n",
       "      <td>1.934063</td>\n",
       "      <td>11.487245</td>\n",
       "      <td>327.355162</td>\n",
       "    </tr>\n",
       "    <tr>\n",
       "      <th>min</th>\n",
       "      <td>100002.000000</td>\n",
       "      <td>1.0</td>\n",
       "      <td>0.000000</td>\n",
       "      <td>2.565000e+04</td>\n",
       "      <td>4.500000e+04</td>\n",
       "      <td>2722.500000</td>\n",
       "      <td>4.500000e+04</td>\n",
       "      <td>0.000533</td>\n",
       "      <td>-25168.000000</td>\n",
       "      <td>-16069.000000</td>\n",
       "      <td>...</td>\n",
       "      <td>0.000000</td>\n",
       "      <td>0.000000</td>\n",
       "      <td>0.000000</td>\n",
       "      <td>0.000000</td>\n",
       "      <td>0.000000</td>\n",
       "      <td>0.000000</td>\n",
       "      <td>0.000000</td>\n",
       "      <td>0.000000</td>\n",
       "      <td>21.035616</td>\n",
       "      <td>-1000.665753</td>\n",
       "    </tr>\n",
       "    <tr>\n",
       "      <th>25%</th>\n",
       "      <td>189555.000000</td>\n",
       "      <td>1.0</td>\n",
       "      <td>0.000000</td>\n",
       "      <td>1.125000e+05</td>\n",
       "      <td>2.844000e+05</td>\n",
       "      <td>17361.000000</td>\n",
       "      <td>2.385000e+05</td>\n",
       "      <td>0.009630</td>\n",
       "      <td>-18037.000000</td>\n",
       "      <td>-2156.000000</td>\n",
       "      <td>...</td>\n",
       "      <td>0.000000</td>\n",
       "      <td>0.000000</td>\n",
       "      <td>0.000000</td>\n",
       "      <td>0.000000</td>\n",
       "      <td>0.000000</td>\n",
       "      <td>0.000000</td>\n",
       "      <td>0.000000</td>\n",
       "      <td>1.000000</td>\n",
       "      <td>31.221918</td>\n",
       "      <td>1.038356</td>\n",
       "    </tr>\n",
       "    <tr>\n",
       "      <th>50%</th>\n",
       "      <td>276291.000000</td>\n",
       "      <td>1.0</td>\n",
       "      <td>0.000000</td>\n",
       "      <td>1.350000e+05</td>\n",
       "      <td>4.975200e+05</td>\n",
       "      <td>25263.000000</td>\n",
       "      <td>4.500000e+05</td>\n",
       "      <td>0.018634</td>\n",
       "      <td>-14282.000000</td>\n",
       "      <td>-1034.000000</td>\n",
       "      <td>...</td>\n",
       "      <td>0.000000</td>\n",
       "      <td>0.000000</td>\n",
       "      <td>0.000000</td>\n",
       "      <td>0.000000</td>\n",
       "      <td>0.000000</td>\n",
       "      <td>0.000000</td>\n",
       "      <td>0.000000</td>\n",
       "      <td>2.000000</td>\n",
       "      <td>39.128767</td>\n",
       "      <td>2.832877</td>\n",
       "    </tr>\n",
       "    <tr>\n",
       "      <th>75%</th>\n",
       "      <td>366050.000000</td>\n",
       "      <td>1.0</td>\n",
       "      <td>1.000000</td>\n",
       "      <td>2.025000e+05</td>\n",
       "      <td>7.333155e+05</td>\n",
       "      <td>32976.000000</td>\n",
       "      <td>6.750000e+05</td>\n",
       "      <td>0.025164</td>\n",
       "      <td>-11396.000000</td>\n",
       "      <td>-379.000000</td>\n",
       "      <td>...</td>\n",
       "      <td>0.000000</td>\n",
       "      <td>0.000000</td>\n",
       "      <td>0.000000</td>\n",
       "      <td>0.000000</td>\n",
       "      <td>0.000000</td>\n",
       "      <td>0.000000</td>\n",
       "      <td>0.000000</td>\n",
       "      <td>3.000000</td>\n",
       "      <td>49.416438</td>\n",
       "      <td>5.906849</td>\n",
       "    </tr>\n",
       "    <tr>\n",
       "      <th>max</th>\n",
       "      <td>456254.000000</td>\n",
       "      <td>1.0</td>\n",
       "      <td>11.000000</td>\n",
       "      <td>1.170000e+08</td>\n",
       "      <td>4.027680e+06</td>\n",
       "      <td>149211.000000</td>\n",
       "      <td>3.600000e+06</td>\n",
       "      <td>0.072508</td>\n",
       "      <td>-7678.000000</td>\n",
       "      <td>365243.000000</td>\n",
       "      <td>...</td>\n",
       "      <td>1.000000</td>\n",
       "      <td>1.000000</td>\n",
       "      <td>2.000000</td>\n",
       "      <td>4.000000</td>\n",
       "      <td>6.000000</td>\n",
       "      <td>17.000000</td>\n",
       "      <td>19.000000</td>\n",
       "      <td>22.000000</td>\n",
       "      <td>68.953425</td>\n",
       "      <td>44.024658</td>\n",
       "    </tr>\n",
       "  </tbody>\n",
       "</table>\n",
       "<p>8 rows × 70 columns</p>\n",
       "</div>"
      ],
      "text/plain": [
       "          SK_ID_CURR   TARGET  CNT_CHILDREN  AMT_INCOME_TOTAL    AMT_CREDIT  \\\n",
       "count   24825.000000  24825.0  24825.000000      2.482500e+04  2.482500e+04   \n",
       "mean   277449.167936      1.0      0.463807      1.656118e+05  5.577785e+05   \n",
       "std    102383.123458      0.0      0.756903      7.466770e+05  3.464332e+05   \n",
       "min    100002.000000      1.0      0.000000      2.565000e+04  4.500000e+04   \n",
       "25%    189555.000000      1.0      0.000000      1.125000e+05  2.844000e+05   \n",
       "50%    276291.000000      1.0      0.000000      1.350000e+05  4.975200e+05   \n",
       "75%    366050.000000      1.0      1.000000      2.025000e+05  7.333155e+05   \n",
       "max    456254.000000      1.0     11.000000      1.170000e+08  4.027680e+06   \n",
       "\n",
       "         AMT_ANNUITY  AMT_GOODS_PRICE  REGION_POPULATION_RELATIVE  \\\n",
       "count   24825.000000     2.480400e+04                24825.000000   \n",
       "mean    26481.744290     4.889724e+05                    0.019131   \n",
       "std     12450.676999     3.116365e+05                    0.011905   \n",
       "min      2722.500000     4.500000e+04                    0.000533   \n",
       "25%     17361.000000     2.385000e+05                    0.009630   \n",
       "50%     25263.000000     4.500000e+05                    0.018634   \n",
       "75%     32976.000000     6.750000e+05                    0.025164   \n",
       "max    149211.000000     3.600000e+06                    0.072508   \n",
       "\n",
       "         DAYS_BIRTH  DAYS_EMPLOYED  ...  FLAG_DOCUMENT_20  FLAG_DOCUMENT_21  \\\n",
       "count  24825.000000   24825.000000  ...      24825.000000      24825.000000   \n",
       "mean  -14884.828077   42394.675448  ...          0.000524          0.000564   \n",
       "std     4192.844583  119484.634253  ...          0.022878          0.023741   \n",
       "min   -25168.000000  -16069.000000  ...          0.000000          0.000000   \n",
       "25%   -18037.000000   -2156.000000  ...          0.000000          0.000000   \n",
       "50%   -14282.000000   -1034.000000  ...          0.000000          0.000000   \n",
       "75%   -11396.000000    -379.000000  ...          0.000000          0.000000   \n",
       "max    -7678.000000  365243.000000  ...          1.000000          1.000000   \n",
       "\n",
       "       AMT_REQ_CREDIT_BUREAU_HOUR  AMT_REQ_CREDIT_BUREAU_DAY  \\\n",
       "count                20533.000000               20533.000000   \n",
       "mean                     0.006672                   0.008036   \n",
       "std                      0.084926                   0.106682   \n",
       "min                      0.000000                   0.000000   \n",
       "25%                      0.000000                   0.000000   \n",
       "50%                      0.000000                   0.000000   \n",
       "75%                      0.000000                   0.000000   \n",
       "max                      2.000000                   4.000000   \n",
       "\n",
       "       AMT_REQ_CREDIT_BUREAU_WEEK  AMT_REQ_CREDIT_BUREAU_MON  \\\n",
       "count                20533.000000               20533.000000   \n",
       "mean                     0.034919                   0.227926   \n",
       "std                      0.203941                   0.745116   \n",
       "min                      0.000000                   0.000000   \n",
       "25%                      0.000000                   0.000000   \n",
       "50%                      0.000000                   0.000000   \n",
       "75%                      0.000000                   0.000000   \n",
       "max                      6.000000                  17.000000   \n",
       "\n",
       "       AMT_REQ_CREDIT_BUREAU_QRT  AMT_REQ_CREDIT_BUREAU_YEAR     DOB_Years  \\\n",
       "count               20533.000000                20533.000000  24825.000000   \n",
       "mean                    0.259923                    2.028783     40.780351   \n",
       "std                     0.643789                    1.934063     11.487245   \n",
       "min                     0.000000                    0.000000     21.035616   \n",
       "25%                     0.000000                    1.000000     31.221918   \n",
       "50%                     0.000000                    2.000000     39.128767   \n",
       "75%                     0.000000                    3.000000     49.416438   \n",
       "max                    19.000000                   22.000000     68.953425   \n",
       "\n",
       "       Years_Employed  \n",
       "count    24825.000000  \n",
       "mean      -116.149796  \n",
       "std        327.355162  \n",
       "min      -1000.665753  \n",
       "25%          1.038356  \n",
       "50%          2.832877  \n",
       "75%          5.906849  \n",
       "max         44.024658  \n",
       "\n",
       "[8 rows x 70 columns]"
      ]
     },
     "execution_count": 24,
     "metadata": {},
     "output_type": "execute_result"
    }
   ],
   "source": [
    "df1['Years_Employed'] = (df1['DAYS_EMPLOYED'] / -365)\n",
    "df1.describe()"
   ]
  },
  {
   "cell_type": "code",
   "execution_count": 25,
   "metadata": {},
   "outputs": [
    {
     "data": {
      "text/html": [
       "<div>\n",
       "<style scoped>\n",
       "    .dataframe tbody tr th:only-of-type {\n",
       "        vertical-align: middle;\n",
       "    }\n",
       "\n",
       "    .dataframe tbody tr th {\n",
       "        vertical-align: top;\n",
       "    }\n",
       "\n",
       "    .dataframe thead th {\n",
       "        text-align: right;\n",
       "    }\n",
       "</style>\n",
       "<table border=\"1\" class=\"dataframe\">\n",
       "  <thead>\n",
       "    <tr style=\"text-align: right;\">\n",
       "      <th></th>\n",
       "      <th>TARGET</th>\n",
       "      <th>Years_Employed</th>\n",
       "    </tr>\n",
       "  </thead>\n",
       "  <tbody>\n",
       "    <tr>\n",
       "      <th>count</th>\n",
       "      <td>307511.000000</td>\n",
       "      <td>307511.000000</td>\n",
       "    </tr>\n",
       "    <tr>\n",
       "      <th>mean</th>\n",
       "      <td>0.080729</td>\n",
       "      <td>175.121693</td>\n",
       "    </tr>\n",
       "    <tr>\n",
       "      <th>std</th>\n",
       "      <td>0.272419</td>\n",
       "      <td>386.611073</td>\n",
       "    </tr>\n",
       "    <tr>\n",
       "      <th>min</th>\n",
       "      <td>0.000000</td>\n",
       "      <td>-49.000000</td>\n",
       "    </tr>\n",
       "    <tr>\n",
       "      <th>25%</th>\n",
       "      <td>0.000000</td>\n",
       "      <td>-7.000000</td>\n",
       "    </tr>\n",
       "    <tr>\n",
       "      <th>50%</th>\n",
       "      <td>0.000000</td>\n",
       "      <td>-3.000000</td>\n",
       "    </tr>\n",
       "    <tr>\n",
       "      <th>75%</th>\n",
       "      <td>0.000000</td>\n",
       "      <td>0.000000</td>\n",
       "    </tr>\n",
       "    <tr>\n",
       "      <th>max</th>\n",
       "      <td>1.000000</td>\n",
       "      <td>1000.000000</td>\n",
       "    </tr>\n",
       "  </tbody>\n",
       "</table>\n",
       "</div>"
      ],
      "text/plain": [
       "              TARGET  Years_Employed\n",
       "count  307511.000000   307511.000000\n",
       "mean        0.080729      175.121693\n",
       "std         0.272419      386.611073\n",
       "min         0.000000      -49.000000\n",
       "25%         0.000000       -7.000000\n",
       "50%         0.000000       -3.000000\n",
       "75%         0.000000        0.000000\n",
       "max         1.000000     1000.000000"
      ]
     },
     "execution_count": 25,
     "metadata": {},
     "output_type": "execute_result"
    }
   ],
   "source": [
    "application_data['Years_Employed'] = application_data['Years_Employed'].astype(int)\n",
    "# For creating Bins on the Age field, we are creating the new dataframe\n",
    "df_yrsemp_bin = application_data[['TARGET', 'Years_Employed']]\n",
    "\n",
    "# Bin the age data\n",
    "df_yrsemp_bin['Yrs_Emp_Bin'] = pd.cut(df_yrsemp_bin['Years_Employed'], bins = np.linspace(-40, 0, num = 10))\n",
    "\n",
    "df_yrsemp_bin.describe()"
   ]
  },
  {
   "cell_type": "code",
   "execution_count": 26,
   "metadata": {},
   "outputs": [
    {
     "data": {
      "text/html": [
       "<div>\n",
       "<style scoped>\n",
       "    .dataframe tbody tr th:only-of-type {\n",
       "        vertical-align: middle;\n",
       "    }\n",
       "\n",
       "    .dataframe tbody tr th {\n",
       "        vertical-align: top;\n",
       "    }\n",
       "\n",
       "    .dataframe thead th {\n",
       "        text-align: right;\n",
       "    }\n",
       "</style>\n",
       "<table border=\"1\" class=\"dataframe\">\n",
       "  <thead>\n",
       "    <tr style=\"text-align: right;\">\n",
       "      <th></th>\n",
       "      <th>TARGET</th>\n",
       "      <th>Years_Employed</th>\n",
       "    </tr>\n",
       "    <tr>\n",
       "      <th>Yrs_Emp_Bin</th>\n",
       "      <th></th>\n",
       "      <th></th>\n",
       "    </tr>\n",
       "  </thead>\n",
       "  <tbody>\n",
       "    <tr>\n",
       "      <th>(-40.0, -35.556]</th>\n",
       "      <td>0.017391</td>\n",
       "      <td>-37.295652</td>\n",
       "    </tr>\n",
       "    <tr>\n",
       "      <th>(-35.556, -31.111]</th>\n",
       "      <td>0.037606</td>\n",
       "      <td>-33.404451</td>\n",
       "    </tr>\n",
       "    <tr>\n",
       "      <th>(-31.111, -26.667]</th>\n",
       "      <td>0.040689</td>\n",
       "      <td>-28.782991</td>\n",
       "    </tr>\n",
       "    <tr>\n",
       "      <th>(-26.667, -22.222]</th>\n",
       "      <td>0.046710</td>\n",
       "      <td>-24.326381</td>\n",
       "    </tr>\n",
       "    <tr>\n",
       "      <th>(-22.222, -17.778]</th>\n",
       "      <td>0.046526</td>\n",
       "      <td>-19.785265</td>\n",
       "    </tr>\n",
       "    <tr>\n",
       "      <th>(-17.778, -13.333]</th>\n",
       "      <td>0.051328</td>\n",
       "      <td>-15.145529</td>\n",
       "    </tr>\n",
       "    <tr>\n",
       "      <th>(-13.333, -8.889]</th>\n",
       "      <td>0.059679</td>\n",
       "      <td>-10.645280</td>\n",
       "    </tr>\n",
       "    <tr>\n",
       "      <th>(-8.889, -4.444]</th>\n",
       "      <td>0.075443</td>\n",
       "      <td>-6.353371</td>\n",
       "    </tr>\n",
       "    <tr>\n",
       "      <th>(-4.444, 0.0]</th>\n",
       "      <td>0.105712</td>\n",
       "      <td>-1.860509</td>\n",
       "    </tr>\n",
       "  </tbody>\n",
       "</table>\n",
       "</div>"
      ],
      "text/plain": [
       "                      TARGET  Years_Employed\n",
       "Yrs_Emp_Bin                                 \n",
       "(-40.0, -35.556]    0.017391      -37.295652\n",
       "(-35.556, -31.111]  0.037606      -33.404451\n",
       "(-31.111, -26.667]  0.040689      -28.782991\n",
       "(-26.667, -22.222]  0.046710      -24.326381\n",
       "(-22.222, -17.778]  0.046526      -19.785265\n",
       "(-17.778, -13.333]  0.051328      -15.145529\n",
       "(-13.333, -8.889]   0.059679      -10.645280\n",
       "(-8.889, -4.444]    0.075443       -6.353371\n",
       "(-4.444, 0.0]       0.105712       -1.860509"
      ]
     },
     "execution_count": 26,
     "metadata": {},
     "output_type": "execute_result"
    }
   ],
   "source": [
    "# Group by the bin and calculating their  averages\n",
    "bin_yrs_group  = df_yrsemp_bin.groupby('Yrs_Emp_Bin').mean()\n",
    "bin_yrs_group"
   ]
  },
  {
   "cell_type": "code",
   "execution_count": 64,
   "metadata": {
    "scrolled": false
   },
   "outputs": [
    {
     "data": {
      "text/plain": [
       "([0, 1, 2, 3, 4, 5, 6, 7, 8], <a list of 9 Text xticklabel objects>)"
      ]
     },
     "execution_count": 64,
     "metadata": {},
     "output_type": "execute_result"
    },
    {
     "data": {
      "image/png": "[encoded data removed]",
      "text/plain": [
       "<Figure size 1440x720 with 1 Axes>"
      ]
     },
     "metadata": {
      "needs_background": "light"
     },
     "output_type": "display_data"
    }
   ],
   "source": [
    "plt.figure(figsize = (20,10))\n",
    "# Graph the age bins and the average of the target as a bar plot\n",
    "plt.bar(bin_yrs_group.index.astype(str), 100 * bin_yrs_group['TARGET'])\n",
    "\n",
    "# Plot labeling\n",
    "plt.title('Failure to Repay by Yrs Employed');\n",
    "plt.xlabel('Employeement in Years');\n",
    "plt.ylabel('Defaulters in %')\n",
    "plt.xticks(rotation = 90)\n"
   ]
  },
  {
   "cell_type": "markdown",
   "metadata": {},
   "source": [
    "We can see a pattern that people with less salary are likely to make more defaults in making repayment of loan"
   ]
  },
  {
   "cell_type": "code",
   "execution_count": 29,
   "metadata": {},
   "outputs": [
    {
     "name": "stdout",
     "output_type": "stream",
     "text": [
      "The outlier default of loans     : 5.399646043269405\n",
      "The non_outlier default on loans : 8.65997453765215\n",
      "The outliers days of employed    : 55374\n"
     ]
    }
   ],
   "source": [
    "# Steps to find the imbalance data\n",
    "\n",
    "outlier = application_data[application_data['DAYS_EMPLOYED'] == 365243]\n",
    "print('The outlier default of loans     : '+ str  (100*outlier['TARGET'].mean()))\n",
    "non_outlier = application_data[application_data['DAYS_EMPLOYED'] != 365243]\n",
    "print('The non_outlier default on loans : '+ str((100 * (non_outlier['TARGET'].mean()))))\n",
    "print('The outliers days of employed    : '+ str(len(outlier)))"
   ]
  },
  {
   "cell_type": "code",
   "execution_count": 30,
   "metadata": {},
   "outputs": [
    {
     "data": {
      "text/plain": [
       "<matplotlib.axes._subplots.AxesSubplot at 0x1c788fefe80>"
      ]
     },
     "execution_count": 30,
     "metadata": {},
     "output_type": "execute_result"
    },
    {
     "data": {
      "image/png": "[encoded data removed]",
      "text/plain": [
       "<Figure size 432x288 with 1 Axes>"
      ]
     },
     "metadata": {
      "needs_background": "light"
     },
     "output_type": "display_data"
    }
   ],
   "source": [
    "# ploting graph for 'NAME_CONTRACT_STATUS'\n",
    "df1['NAME_CONTRACT_TYPE'].value_counts().plot.bar()"
   ]
  },
  {
   "cell_type": "markdown",
   "metadata": {},
   "source": [
    "If we look at the graph shown in this slide, we can easily conclude that tendency to make defaults in repayment of loan in Cash loans are very high as compared to revolving loans which means we need to be very-very careful while providing the cash loans."
   ]
  },
  {
   "cell_type": "code",
   "execution_count": 31,
   "metadata": {},
   "outputs": [
    {
     "data": {
      "text/plain": [
       "<matplotlib.axes._subplots.AxesSubplot at 0x1c789001630>"
      ]
     },
     "execution_count": 31,
     "metadata": {},
     "output_type": "execute_result"
    },
    {
     "data": {
      "image/png": "[encoded data removed]",
      "text/plain": [
       "<Figure size 1440x720 with 1 Axes>"
      ]
     },
     "metadata": {
      "needs_background": "light"
     },
     "output_type": "display_data"
    }
   ],
   "source": [
    "plt.figure(figsize = (20, 10))\n",
    "df1['OCCUPATION_TYPE'].value_counts().plot.bar()"
   ]
  },
  {
   "cell_type": "markdown",
   "metadata": {},
   "source": [
    "If we look at the graph shown in the two above, we clearly got to know that top 5 classes of occupation which means labourers, Sales staff, Drivers, Core staff and managers are the occupations which are approximately covers approximately 50-55% of the defaulters."
   ]
  },
  {
   "cell_type": "code",
   "execution_count": 32,
   "metadata": {},
   "outputs": [
    {
     "data": {
      "text/plain": [
       "<matplotlib.axes._subplots.AxesSubplot at 0x1c78ca9fd30>"
      ]
     },
     "execution_count": 32,
     "metadata": {},
     "output_type": "execute_result"
    },
    {
     "data": {
      "image/png": "[encoded data removed]",
      "text/plain": [
       "<Figure size 1440x720 with 1 Axes>"
      ]
     },
     "metadata": {
      "needs_background": "light"
     },
     "output_type": "display_data"
    }
   ],
   "source": [
    "plt.figure(figsize = (20, 10))\n",
    "df1['NAME_EDUCATION_TYPE'].value_counts().plot.bar()"
   ]
  },
  {
   "attachments": {},
   "cell_type": "markdown",
   "metadata": {},
   "source": [
    "If we look that the graph between number of defaulters and education level than we can conclude that those who are passed their secondary or less than that are those who makes maximum defaults necessary or precautions needs to be taken to decrease these defaulters"
   ]
  },
  {
   "cell_type": "code",
   "execution_count": 33,
   "metadata": {},
   "outputs": [
    {
     "name": "stdout",
     "output_type": "stream",
     "text": [
      "Least 10 Correlations:\n",
      " FLAG_DOCUMENT_3                0.044346\n",
      "REG_CITY_NOT_LIVE_CITY         0.044395\n",
      "FLAG_EMP_PHONE                 0.045982\n",
      "REG_CITY_NOT_WORK_CITY         0.050994\n",
      "DAYS_ID_PUBLISH                0.051457\n",
      "DAYS_LAST_PHONE_CHANGE         0.055218\n",
      "REGION_RATING_CLIENT           0.058899\n",
      "REGION_RATING_CLIENT_W_CITY    0.060893\n",
      "DAYS_BIRTH                     0.078239\n",
      "TARGET                         1.000000\n",
      "Name: TARGET, dtype: float64\n",
      "\n",
      "Top 10 Correlations:\n",
      " EXT_SOURCE_3                 -0.178919\n",
      "EXT_SOURCE_2                 -0.160472\n",
      "DAYS_EMPLOYED                -0.044932\n",
      "FLOORSMAX_AVG                -0.044003\n",
      "FLOORSMAX_MEDI               -0.043768\n",
      "FLOORSMAX_MODE               -0.043226\n",
      "AMT_GOODS_PRICE              -0.039645\n",
      "REGION_POPULATION_RELATIVE   -0.037227\n",
      "TOTALAREA_MODE               -0.032596\n",
      "AMT_CREDIT                   -0.030369\n",
      "Name: TARGET, dtype: float64\n"
     ]
    }
   ],
   "source": [
    "# Find correlations with the target and sort\n",
    "correlations = df.corr()['TARGET'].sort_values()\n",
    "\n",
    "# Display correlations\n",
    "print('Least 10 Correlations:\\n', correlations.tail(10))\n",
    "print('\\nTop 10 Correlations:\\n', correlations.head(10))"
   ]
  },
  {
   "cell_type": "code",
   "execution_count": 34,
   "metadata": {},
   "outputs": [
    {
     "data": {
      "text/html": [
       "<div>\n",
       "<style scoped>\n",
       "    .dataframe tbody tr th:only-of-type {\n",
       "        vertical-align: middle;\n",
       "    }\n",
       "\n",
       "    .dataframe tbody tr th {\n",
       "        vertical-align: top;\n",
       "    }\n",
       "\n",
       "    .dataframe thead th {\n",
       "        text-align: right;\n",
       "    }\n",
       "</style>\n",
       "<table border=\"1\" class=\"dataframe\">\n",
       "  <thead>\n",
       "    <tr style=\"text-align: right;\">\n",
       "      <th></th>\n",
       "      <th>TARGET</th>\n",
       "      <th>EXT_SOURCE_1</th>\n",
       "      <th>EXT_SOURCE_2</th>\n",
       "      <th>DAYS_EMPLOYED</th>\n",
       "      <th>DAYS_BIRTH</th>\n",
       "      <th>REGION_RATING_CLIENT_W_CITY</th>\n",
       "    </tr>\n",
       "  </thead>\n",
       "  <tbody>\n",
       "    <tr>\n",
       "      <th>TARGET</th>\n",
       "      <td>1.000000</td>\n",
       "      <td>-0.155317</td>\n",
       "      <td>-0.160472</td>\n",
       "      <td>-0.044932</td>\n",
       "      <td>-0.078239</td>\n",
       "      <td>0.060893</td>\n",
       "    </tr>\n",
       "    <tr>\n",
       "      <th>EXT_SOURCE_1</th>\n",
       "      <td>-0.155317</td>\n",
       "      <td>1.000000</td>\n",
       "      <td>0.213982</td>\n",
       "      <td>0.289848</td>\n",
       "      <td>0.600610</td>\n",
       "      <td>-0.115374</td>\n",
       "    </tr>\n",
       "    <tr>\n",
       "      <th>EXT_SOURCE_2</th>\n",
       "      <td>-0.160472</td>\n",
       "      <td>0.213982</td>\n",
       "      <td>1.000000</td>\n",
       "      <td>-0.020767</td>\n",
       "      <td>0.091996</td>\n",
       "      <td>-0.288299</td>\n",
       "    </tr>\n",
       "    <tr>\n",
       "      <th>DAYS_EMPLOYED</th>\n",
       "      <td>-0.044932</td>\n",
       "      <td>0.289848</td>\n",
       "      <td>-0.020767</td>\n",
       "      <td>1.000000</td>\n",
       "      <td>0.615864</td>\n",
       "      <td>0.034624</td>\n",
       "    </tr>\n",
       "    <tr>\n",
       "      <th>DAYS_BIRTH</th>\n",
       "      <td>-0.078239</td>\n",
       "      <td>0.600610</td>\n",
       "      <td>0.091996</td>\n",
       "      <td>0.615864</td>\n",
       "      <td>1.000000</td>\n",
       "      <td>-0.008073</td>\n",
       "    </tr>\n",
       "    <tr>\n",
       "      <th>REGION_RATING_CLIENT_W_CITY</th>\n",
       "      <td>0.060893</td>\n",
       "      <td>-0.115374</td>\n",
       "      <td>-0.288299</td>\n",
       "      <td>0.034624</td>\n",
       "      <td>-0.008073</td>\n",
       "      <td>1.000000</td>\n",
       "    </tr>\n",
       "  </tbody>\n",
       "</table>\n",
       "</div>"
      ],
      "text/plain": [
       "                               TARGET  EXT_SOURCE_1  EXT_SOURCE_2  \\\n",
       "TARGET                       1.000000     -0.155317     -0.160472   \n",
       "EXT_SOURCE_1                -0.155317      1.000000      0.213982   \n",
       "EXT_SOURCE_2                -0.160472      0.213982      1.000000   \n",
       "DAYS_EMPLOYED               -0.044932      0.289848     -0.020767   \n",
       "DAYS_BIRTH                  -0.078239      0.600610      0.091996   \n",
       "REGION_RATING_CLIENT_W_CITY  0.060893     -0.115374     -0.288299   \n",
       "\n",
       "                             DAYS_EMPLOYED  DAYS_BIRTH  \\\n",
       "TARGET                           -0.044932   -0.078239   \n",
       "EXT_SOURCE_1                      0.289848    0.600610   \n",
       "EXT_SOURCE_2                     -0.020767    0.091996   \n",
       "DAYS_EMPLOYED                     1.000000    0.615864   \n",
       "DAYS_BIRTH                        0.615864    1.000000   \n",
       "REGION_RATING_CLIENT_W_CITY       0.034624   -0.008073   \n",
       "\n",
       "                             REGION_RATING_CLIENT_W_CITY  \n",
       "TARGET                                          0.060893  \n",
       "EXT_SOURCE_1                                   -0.115374  \n",
       "EXT_SOURCE_2                                   -0.288299  \n",
       "DAYS_EMPLOYED                                   0.034624  \n",
       "DAYS_BIRTH                                     -0.008073  \n",
       "REGION_RATING_CLIENT_W_CITY                     1.000000  "
      ]
     },
     "execution_count": 34,
     "metadata": {},
     "output_type": "execute_result"
    }
   ],
   "source": [
    "# Extract the EXT_SOURCE variables and show correlations\n",
    "cor_data = application_data[['TARGET', 'EXT_SOURCE_1', 'EXT_SOURCE_2', 'DAYS_EMPLOYED', 'DAYS_BIRTH', 'REGION_RATING_CLIENT_W_CITY']]\n",
    "cor_data_corrs = cor_data.corr()\n",
    "cor_data_corrs"
   ]
  },
  {
   "cell_type": "code",
   "execution_count": 35,
   "metadata": {},
   "outputs": [
    {
     "data": {
      "image/png": "[encoded data removed]",
      "text/plain": [
       "<Figure size 1440x720 with 2 Axes>"
      ]
     },
     "metadata": {
      "needs_background": "light"
     },
     "output_type": "display_data"
    }
   ],
   "source": [
    "plt.figure(figsize = (20, 10))\n",
    "\n",
    "# Heatmap of correlations\n",
    "sns.heatmap(cor_data_corrs, annot = True)\n",
    "plt.title('Correlation Heatmap');"
   ]
  },
  {
   "attachments": {},
   "cell_type": "markdown",
   "metadata": {},
   "source": [
    "The variable “REGION_RATING_CLIENT_W_CITY ”  mean rating of the region where client lives with taking city into account (1,2,3) ,since the correlation between target and REGION_RATING_CLIENT_W_CITY is 0.061 which means as the value REGION_RATING_CLIENT_W_CITY increases the chances of making defaults also increases, this shows that those who lives in city whose rating is 3 makes more no. of defaults.\n",
    "Similarly, between the variables “Days employed” and “Target” correlation is -0.045 which means as the peoples experience level increases they are less likely to make defaults in repayment of loans.\n",
    "Similarly, between the variables “Age” and “Target” correlation is -0.078 which means as the peoples age increases they are less likely to make defaults in repayment of loans"
   ]
  },
  {
   "cell_type": "code",
   "execution_count": 36,
   "metadata": {},
   "outputs": [],
   "source": [
    "df_tar_sk_curr = application_data.iloc[:,0:2]"
   ]
  },
  {
   "cell_type": "code",
   "execution_count": 37,
   "metadata": {},
   "outputs": [],
   "source": [
    "# df_tar_sk_curr"
   ]
  },
  {
   "cell_type": "code",
   "execution_count": 38,
   "metadata": {},
   "outputs": [
    {
     "name": "stdout",
     "output_type": "stream",
     "text": [
      "(1670214, 37)\n"
     ]
    },
    {
     "data": {
      "text/html": [
       "<div>\n",
       "<style scoped>\n",
       "    .dataframe tbody tr th:only-of-type {\n",
       "        vertical-align: middle;\n",
       "    }\n",
       "\n",
       "    .dataframe tbody tr th {\n",
       "        vertical-align: top;\n",
       "    }\n",
       "\n",
       "    .dataframe thead th {\n",
       "        text-align: right;\n",
       "    }\n",
       "</style>\n",
       "<table border=\"1\" class=\"dataframe\">\n",
       "  <thead>\n",
       "    <tr style=\"text-align: right;\">\n",
       "      <th></th>\n",
       "      <th>SK_ID_PREV</th>\n",
       "      <th>SK_ID_CURR</th>\n",
       "      <th>NAME_CONTRACT_TYPE</th>\n",
       "      <th>AMT_ANNUITY</th>\n",
       "      <th>AMT_APPLICATION</th>\n",
       "      <th>AMT_CREDIT</th>\n",
       "      <th>AMT_DOWN_PAYMENT</th>\n",
       "      <th>AMT_GOODS_PRICE</th>\n",
       "      <th>WEEKDAY_APPR_PROCESS_START</th>\n",
       "      <th>HOUR_APPR_PROCESS_START</th>\n",
       "      <th>...</th>\n",
       "      <th>NAME_SELLER_INDUSTRY</th>\n",
       "      <th>CNT_PAYMENT</th>\n",
       "      <th>NAME_YIELD_GROUP</th>\n",
       "      <th>PRODUCT_COMBINATION</th>\n",
       "      <th>DAYS_FIRST_DRAWING</th>\n",
       "      <th>DAYS_FIRST_DUE</th>\n",
       "      <th>DAYS_LAST_DUE_1ST_VERSION</th>\n",
       "      <th>DAYS_LAST_DUE</th>\n",
       "      <th>DAYS_TERMINATION</th>\n",
       "      <th>NFLAG_INSURED_ON_APPROVAL</th>\n",
       "    </tr>\n",
       "  </thead>\n",
       "  <tbody>\n",
       "    <tr>\n",
       "      <th>0</th>\n",
       "      <td>2030495</td>\n",
       "      <td>271877</td>\n",
       "      <td>Consumer loans</td>\n",
       "      <td>1730.430</td>\n",
       "      <td>17145.0</td>\n",
       "      <td>17145.0</td>\n",
       "      <td>0.0</td>\n",
       "      <td>17145.0</td>\n",
       "      <td>SATURDAY</td>\n",
       "      <td>15</td>\n",
       "      <td>...</td>\n",
       "      <td>Connectivity</td>\n",
       "      <td>12.0</td>\n",
       "      <td>middle</td>\n",
       "      <td>POS mobile with interest</td>\n",
       "      <td>365243.0</td>\n",
       "      <td>-42.0</td>\n",
       "      <td>300.0</td>\n",
       "      <td>-42.0</td>\n",
       "      <td>-37.0</td>\n",
       "      <td>0.0</td>\n",
       "    </tr>\n",
       "    <tr>\n",
       "      <th>1</th>\n",
       "      <td>2802425</td>\n",
       "      <td>108129</td>\n",
       "      <td>Cash loans</td>\n",
       "      <td>25188.615</td>\n",
       "      <td>607500.0</td>\n",
       "      <td>679671.0</td>\n",
       "      <td>NaN</td>\n",
       "      <td>607500.0</td>\n",
       "      <td>THURSDAY</td>\n",
       "      <td>11</td>\n",
       "      <td>...</td>\n",
       "      <td>XNA</td>\n",
       "      <td>36.0</td>\n",
       "      <td>low_action</td>\n",
       "      <td>Cash X-Sell: low</td>\n",
       "      <td>365243.0</td>\n",
       "      <td>-134.0</td>\n",
       "      <td>916.0</td>\n",
       "      <td>365243.0</td>\n",
       "      <td>365243.0</td>\n",
       "      <td>1.0</td>\n",
       "    </tr>\n",
       "    <tr>\n",
       "      <th>2</th>\n",
       "      <td>2523466</td>\n",
       "      <td>122040</td>\n",
       "      <td>Cash loans</td>\n",
       "      <td>15060.735</td>\n",
       "      <td>112500.0</td>\n",
       "      <td>136444.5</td>\n",
       "      <td>NaN</td>\n",
       "      <td>112500.0</td>\n",
       "      <td>TUESDAY</td>\n",
       "      <td>11</td>\n",
       "      <td>...</td>\n",
       "      <td>XNA</td>\n",
       "      <td>12.0</td>\n",
       "      <td>high</td>\n",
       "      <td>Cash X-Sell: high</td>\n",
       "      <td>365243.0</td>\n",
       "      <td>-271.0</td>\n",
       "      <td>59.0</td>\n",
       "      <td>365243.0</td>\n",
       "      <td>365243.0</td>\n",
       "      <td>1.0</td>\n",
       "    </tr>\n",
       "    <tr>\n",
       "      <th>3</th>\n",
       "      <td>2819243</td>\n",
       "      <td>176158</td>\n",
       "      <td>Cash loans</td>\n",
       "      <td>47041.335</td>\n",
       "      <td>450000.0</td>\n",
       "      <td>470790.0</td>\n",
       "      <td>NaN</td>\n",
       "      <td>450000.0</td>\n",
       "      <td>MONDAY</td>\n",
       "      <td>7</td>\n",
       "      <td>...</td>\n",
       "      <td>XNA</td>\n",
       "      <td>12.0</td>\n",
       "      <td>middle</td>\n",
       "      <td>Cash X-Sell: middle</td>\n",
       "      <td>365243.0</td>\n",
       "      <td>-482.0</td>\n",
       "      <td>-152.0</td>\n",
       "      <td>-182.0</td>\n",
       "      <td>-177.0</td>\n",
       "      <td>1.0</td>\n",
       "    </tr>\n",
       "    <tr>\n",
       "      <th>4</th>\n",
       "      <td>1784265</td>\n",
       "      <td>202054</td>\n",
       "      <td>Cash loans</td>\n",
       "      <td>31924.395</td>\n",
       "      <td>337500.0</td>\n",
       "      <td>404055.0</td>\n",
       "      <td>NaN</td>\n",
       "      <td>337500.0</td>\n",
       "      <td>THURSDAY</td>\n",
       "      <td>9</td>\n",
       "      <td>...</td>\n",
       "      <td>XNA</td>\n",
       "      <td>24.0</td>\n",
       "      <td>high</td>\n",
       "      <td>Cash Street: high</td>\n",
       "      <td>NaN</td>\n",
       "      <td>NaN</td>\n",
       "      <td>NaN</td>\n",
       "      <td>NaN</td>\n",
       "      <td>NaN</td>\n",
       "      <td>NaN</td>\n",
       "    </tr>\n",
       "  </tbody>\n",
       "</table>\n",
       "<p>5 rows × 37 columns</p>\n",
       "</div>"
      ],
      "text/plain": [
       "   SK_ID_PREV  SK_ID_CURR NAME_CONTRACT_TYPE  AMT_ANNUITY  AMT_APPLICATION  \\\n",
       "0     2030495      271877     Consumer loans     1730.430          17145.0   \n",
       "1     2802425      108129         Cash loans    25188.615         607500.0   \n",
       "2     2523466      122040         Cash loans    15060.735         112500.0   \n",
       "3     2819243      176158         Cash loans    47041.335         450000.0   \n",
       "4     1784265      202054         Cash loans    31924.395         337500.0   \n",
       "\n",
       "   AMT_CREDIT  AMT_DOWN_PAYMENT  AMT_GOODS_PRICE WEEKDAY_APPR_PROCESS_START  \\\n",
       "0     17145.0               0.0          17145.0                   SATURDAY   \n",
       "1    679671.0               NaN         607500.0                   THURSDAY   \n",
       "2    136444.5               NaN         112500.0                    TUESDAY   \n",
       "3    470790.0               NaN         450000.0                     MONDAY   \n",
       "4    404055.0               NaN         337500.0                   THURSDAY   \n",
       "\n",
       "   HOUR_APPR_PROCESS_START  ... NAME_SELLER_INDUSTRY  CNT_PAYMENT  \\\n",
       "0                       15  ...         Connectivity         12.0   \n",
       "1                       11  ...                  XNA         36.0   \n",
       "2                       11  ...                  XNA         12.0   \n",
       "3                        7  ...                  XNA         12.0   \n",
       "4                        9  ...                  XNA         24.0   \n",
       "\n",
       "   NAME_YIELD_GROUP       PRODUCT_COMBINATION  DAYS_FIRST_DRAWING  \\\n",
       "0            middle  POS mobile with interest            365243.0   \n",
       "1        low_action          Cash X-Sell: low            365243.0   \n",
       "2              high         Cash X-Sell: high            365243.0   \n",
       "3            middle       Cash X-Sell: middle            365243.0   \n",
       "4              high         Cash Street: high                 NaN   \n",
       "\n",
       "  DAYS_FIRST_DUE DAYS_LAST_DUE_1ST_VERSION  DAYS_LAST_DUE DAYS_TERMINATION  \\\n",
       "0          -42.0                     300.0          -42.0            -37.0   \n",
       "1         -134.0                     916.0       365243.0         365243.0   \n",
       "2         -271.0                      59.0       365243.0         365243.0   \n",
       "3         -482.0                    -152.0         -182.0           -177.0   \n",
       "4            NaN                       NaN            NaN              NaN   \n",
       "\n",
       "  NFLAG_INSURED_ON_APPROVAL  \n",
       "0                       0.0  \n",
       "1                       1.0  \n",
       "2                       1.0  \n",
       "3                       1.0  \n",
       "4                       NaN  \n",
       "\n",
       "[5 rows x 37 columns]"
      ]
     },
     "execution_count": 38,
     "metadata": {},
     "output_type": "execute_result"
    }
   ],
   "source": [
    "# Importing the dataset\n",
    "previous_application_data = pd.read_csv(r\"C:\\Users\\sesa505163\\Downloads\\previous_application.csv\")\n",
    "print(previous_application_data.shape)\n",
    "previous_application_data.head()"
   ]
  },
  {
   "cell_type": "code",
   "execution_count": 39,
   "metadata": {},
   "outputs": [],
   "source": [
    "previous_application_drop = previous_application_data.drop_duplicates(['SK_ID_CURR'], keep='last')\n",
    "# previous_application_drop"
   ]
  },
  {
   "cell_type": "code",
   "execution_count": 40,
   "metadata": {},
   "outputs": [],
   "source": [
    "merge_app_pre = pd.merge(df_tar_sk_curr, previous_application_drop, on='SK_ID_CURR')\n",
    "# merge_app_pre"
   ]
  },
  {
   "cell_type": "code",
   "execution_count": 41,
   "metadata": {},
   "outputs": [
    {
     "name": "stdout",
     "output_type": "stream",
     "text": [
      "Total number of missing columns are: 15\n",
      "                           Number of Missing Values  % of Total Missing Values\n",
      "RATE_INTEREST_PRIMARY                        289431                       99.4\n",
      "RATE_INTEREST_PRIVILEGED                     289431                       99.4\n",
      "NAME_TYPE_SUITE                              139598                       48.0\n",
      "AMT_DOWN_PAYMENT                             116509                       40.0\n",
      "RATE_DOWN_PAYMENT                            116509                       40.0\n",
      "DAYS_FIRST_DRAWING                            79691                       27.4\n",
      "DAYS_FIRST_DUE                                79691                       27.4\n",
      "DAYS_LAST_DUE_1ST_VERSION                     79691                       27.4\n",
      "DAYS_LAST_DUE                                 79691                       27.4\n",
      "DAYS_TERMINATION                              79691                       27.4\n",
      "NFLAG_INSURED_ON_APPROVAL                     79691                       27.4\n",
      "AMT_GOODS_PRICE                               47326                       16.3\n",
      "AMT_ANNUITY                                   44206                       15.2\n",
      "CNT_PAYMENT                                   44204                       15.2\n",
      "PRODUCT_COMBINATION                              53                        0.0\n"
     ]
    }
   ],
   "source": [
    "# Steps to find the missing values\n",
    "\n",
    "# Calculating the total number of missing values\n",
    "missing_values_2 = merge_app_pre.isnull().sum()\n",
    "\n",
    "# Calculating the % of the missing values\n",
    "missing_value_percentage_2 = 100 * merge_app_pre.isnull().sum() / len(merge_app_pre)\n",
    "\n",
    " # Concatinating the two tables\n",
    "missing_value_table_2 = pd.concat([missing_values_2, missing_value_percentage_2], axis=1)\n",
    "\n",
    "# Renameing the column names\n",
    "missing_value_table_columns_2 = missing_value_table_2.rename(columns={0: 'Number of Missing Values', 1: '% of Total Missing Values'})\n",
    "\n",
    "# Display the values in sorting order\n",
    "missing_value_table_columns_2 = missing_value_table_columns_2[missing_value_table_columns_2.iloc[:, 1] != 0].sort_values('% of Total Missing Values', ascending=False).round(1)\n",
    "print(\"Total number of missing columns are: \" + str(missing_value_table_columns_2.shape[0]))\n",
    "print(missing_value_table_columns_2.head(100))"
   ]
  },
  {
   "cell_type": "code",
   "execution_count": 42,
   "metadata": {},
   "outputs": [],
   "source": [
    "# Deleting the Columns for which the missing value is greater than 50%\n",
    "df_missing_value = merge_app_pre.loc[:, (merge_app_pre.isnull().sum() <= len(merge_app_pre)/2)]\n",
    "# df.columns"
   ]
  },
  {
   "cell_type": "code",
   "execution_count": 43,
   "metadata": {},
   "outputs": [
    {
     "data": {
      "image/png": "[encoded data removed]",
      "text/plain": [
       "<Figure size 432x288 with 1 Axes>"
      ]
     },
     "metadata": {
      "needs_background": "light"
     },
     "output_type": "display_data"
    }
   ],
   "source": [
    "merge_app_pre['TARGET'].astype(int).plot.hist();"
   ]
  },
  {
   "cell_type": "markdown",
   "metadata": {},
   "source": [
    "This shows that approximately 9% of total people in previous database are defaulters"
   ]
  },
  {
   "cell_type": "code",
   "execution_count": 44,
   "metadata": {},
   "outputs": [],
   "source": [
    "# Spliting the Dataframe into two categories \"Target = 0\" \n",
    "df00 = merge_app_pre[merge_app_pre['TARGET'] == 0]\n",
    "# print (df00)"
   ]
  },
  {
   "cell_type": "code",
   "execution_count": 45,
   "metadata": {},
   "outputs": [],
   "source": [
    "# Spliting the Dataframe into two categories \"Target = 1\" \n",
    "df11 = merge_app_pre[merge_app_pre['TARGET'] == 1]\n",
    "# print (df11)"
   ]
  },
  {
   "cell_type": "code",
   "execution_count": 46,
   "metadata": {},
   "outputs": [
    {
     "data": {
      "text/plain": [
       "NAME_CONTRACT_TYPE              4\n",
       "WEEKDAY_APPR_PROCESS_START      7\n",
       "FLAG_LAST_APPL_PER_CONTRACT     2\n",
       "NAME_CASH_LOAN_PURPOSE         23\n",
       "NAME_CONTRACT_STATUS            4\n",
       "NAME_PAYMENT_TYPE               4\n",
       "CODE_REJECT_REASON              9\n",
       "NAME_TYPE_SUITE                 7\n",
       "NAME_CLIENT_TYPE                4\n",
       "NAME_GOODS_CATEGORY            24\n",
       "NAME_PORTFOLIO                  5\n",
       "NAME_PRODUCT_TYPE               3\n",
       "CHANNEL_TYPE                    8\n",
       "NAME_SELLER_INDUSTRY           11\n",
       "NAME_YIELD_GROUP                5\n",
       "PRODUCT_COMBINATION            17\n",
       "dtype: int64"
      ]
     },
     "execution_count": 46,
     "metadata": {},
     "output_type": "execute_result"
    }
   ],
   "source": [
    "# Number of unique classes in each object column\n",
    "df11.select_dtypes('object').apply(pd.Series.nunique, axis = 0)"
   ]
  },
  {
   "cell_type": "code",
   "execution_count": 47,
   "metadata": {},
   "outputs": [
    {
     "data": {
      "text/plain": [
       "<matplotlib.axes._subplots.AxesSubplot at 0x1c7c6f50240>"
      ]
     },
     "execution_count": 47,
     "metadata": {},
     "output_type": "execute_result"
    },
    {
     "data": {
      "image/png": "[encoded data removed]",
      "text/plain": [
       "<Figure size 432x288 with 1 Axes>"
      ]
     },
     "metadata": {
      "needs_background": "light"
     },
     "output_type": "display_data"
    }
   ],
   "source": [
    "# ploting graph for 'NAME_CONTRACT_STATUS'\n",
    "df11['NAME_CONTRACT_TYPE'].value_counts().plot.bar()"
   ]
  },
  {
   "cell_type": "markdown",
   "metadata": {},
   "source": [
    "The graph shows in this slide indicates approximately 50% of the total defaulters are those who took consumer loans."
   ]
  },
  {
   "cell_type": "code",
   "execution_count": 48,
   "metadata": {},
   "outputs": [
    {
     "data": {
      "text/plain": [
       "<matplotlib.axes._subplots.AxesSubplot at 0x1c7c6e155c0>"
      ]
     },
     "execution_count": 48,
     "metadata": {},
     "output_type": "execute_result"
    },
    {
     "data": {
      "image/png": "[encoded data removed]",
      "text/plain": [
       "<Figure size 432x288 with 1 Axes>"
      ]
     },
     "metadata": {
      "needs_background": "light"
     },
     "output_type": "display_data"
    }
   ],
   "source": [
    "# ploting graph for 'NAME_CASH_LOAN_PURPOSE'\n",
    "df11['NAME_CASH_LOAN_PURPOSE'].value_counts().plot.bar()"
   ]
  },
  {
   "cell_type": "markdown",
   "metadata": {},
   "source": [
    "The graph shows in this slide indicates approximately 50% of the total defaulters are those who took consumer loans."
   ]
  },
  {
   "cell_type": "code",
   "execution_count": 49,
   "metadata": {},
   "outputs": [
    {
     "data": {
      "text/plain": [
       "<matplotlib.axes._subplots.AxesSubplot at 0x1c7c6eb98d0>"
      ]
     },
     "execution_count": 49,
     "metadata": {},
     "output_type": "execute_result"
    },
    {
     "data": {
      "image/png": "[encoded data removed]",
      "text/plain": [
       "<Figure size 432x288 with 1 Axes>"
      ]
     },
     "metadata": {
      "needs_background": "light"
     },
     "output_type": "display_data"
    }
   ],
   "source": [
    "# ploting graph for 'CODE_REJECT_REASON'\n",
    "df11['CODE_REJECT_REASON'].value_counts().plot.bar()"
   ]
  },
  {
   "cell_type": "markdown",
   "metadata": {},
   "source": [
    "This Graph shows those who takes loan for XAP are approximately 65% likely to make defaults and XNA are approx. 30%."
   ]
  },
  {
   "cell_type": "code",
   "execution_count": 50,
   "metadata": {},
   "outputs": [
    {
     "data": {
      "text/plain": [
       "Index(['SK_ID_CURR', 'TARGET', 'SK_ID_PREV', 'NAME_CONTRACT_TYPE',\n",
       "       'AMT_ANNUITY', 'AMT_APPLICATION', 'AMT_CREDIT', 'AMT_DOWN_PAYMENT',\n",
       "       'AMT_GOODS_PRICE', 'WEEKDAY_APPR_PROCESS_START',\n",
       "       'HOUR_APPR_PROCESS_START', 'FLAG_LAST_APPL_PER_CONTRACT',\n",
       "       'NFLAG_LAST_APPL_IN_DAY', 'RATE_DOWN_PAYMENT', 'RATE_INTEREST_PRIMARY',\n",
       "       'RATE_INTEREST_PRIVILEGED', 'NAME_CASH_LOAN_PURPOSE',\n",
       "       'NAME_CONTRACT_STATUS', 'DAYS_DECISION', 'NAME_PAYMENT_TYPE',\n",
       "       'CODE_REJECT_REASON', 'NAME_TYPE_SUITE', 'NAME_CLIENT_TYPE',\n",
       "       'NAME_GOODS_CATEGORY', 'NAME_PORTFOLIO', 'NAME_PRODUCT_TYPE',\n",
       "       'CHANNEL_TYPE', 'SELLERPLACE_AREA', 'NAME_SELLER_INDUSTRY',\n",
       "       'CNT_PAYMENT', 'NAME_YIELD_GROUP', 'PRODUCT_COMBINATION',\n",
       "       'DAYS_FIRST_DRAWING', 'DAYS_FIRST_DUE', 'DAYS_LAST_DUE_1ST_VERSION',\n",
       "       'DAYS_LAST_DUE', 'DAYS_TERMINATION', 'NFLAG_INSURED_ON_APPROVAL'],\n",
       "      dtype='object')"
      ]
     },
     "execution_count": 50,
     "metadata": {},
     "output_type": "execute_result"
    }
   ],
   "source": [
    "df11.columns"
   ]
  },
  {
   "cell_type": "code",
   "execution_count": 51,
   "metadata": {},
   "outputs": [
    {
     "data": {
      "text/plain": [
       "<matplotlib.axes._subplots.AxesSubplot at 0x1c7c6f9f320>"
      ]
     },
     "execution_count": 51,
     "metadata": {},
     "output_type": "execute_result"
    },
    {
     "data": {
      "image/png": "[encoded data removed]",
      "text/plain": [
       "<Figure size 432x288 with 1 Axes>"
      ]
     },
     "metadata": {
      "needs_background": "light"
     },
     "output_type": "display_data"
    }
   ],
   "source": [
    "# ploting graph for 'CHANNEL_TYPE'\n",
    "df11['CHANNEL_TYPE'].value_counts().plot.bar()"
   ]
  },
  {
   "cell_type": "code",
   "execution_count": 52,
   "metadata": {},
   "outputs": [],
   "source": [
    "merge_app_pre['AMT_CREDIT'] = merge_app_pre['AMT_CREDIT'].astype(float)\n",
    "# For creating Bins on the Age field, we are creating the new dataframe\n",
    "df_amt_cred_bin = merge_app_pre[['TARGET', 'AMT_CREDIT']]\n",
    "\n",
    "# Bin the age data\n",
    "df_amt_cred_bin['AMT_CREDIT'] = pd.cut(df_amt_cred_bin['AMT_CREDIT'], bins = np.linspace(0, 1000000, num = 5))\n",
    "\n",
    "# df_amt_cred_bin"
   ]
  },
  {
   "cell_type": "code",
   "execution_count": 53,
   "metadata": {},
   "outputs": [
    {
     "data": {
      "text/html": [
       "<div>\n",
       "<style scoped>\n",
       "    .dataframe tbody tr th:only-of-type {\n",
       "        vertical-align: middle;\n",
       "    }\n",
       "\n",
       "    .dataframe tbody tr th {\n",
       "        vertical-align: top;\n",
       "    }\n",
       "\n",
       "    .dataframe thead th {\n",
       "        text-align: right;\n",
       "    }\n",
       "</style>\n",
       "<table border=\"1\" class=\"dataframe\">\n",
       "  <thead>\n",
       "    <tr style=\"text-align: right;\">\n",
       "      <th></th>\n",
       "      <th>TARGET</th>\n",
       "      <th>AMT_ANNUITY</th>\n",
       "      <th>AMT_APPLICATION</th>\n",
       "      <th>AMT_CREDIT</th>\n",
       "      <th>AMT_GOODS_PRICE</th>\n",
       "    </tr>\n",
       "  </thead>\n",
       "  <tbody>\n",
       "    <tr>\n",
       "      <th>TARGET</th>\n",
       "      <td>1.000000</td>\n",
       "      <td>-0.021701</td>\n",
       "      <td>-0.008822</td>\n",
       "      <td>-0.005646</td>\n",
       "      <td>-0.006970</td>\n",
       "    </tr>\n",
       "    <tr>\n",
       "      <th>AMT_ANNUITY</th>\n",
       "      <td>-0.021701</td>\n",
       "      <td>1.000000</td>\n",
       "      <td>0.802463</td>\n",
       "      <td>0.809831</td>\n",
       "      <td>0.815623</td>\n",
       "    </tr>\n",
       "    <tr>\n",
       "      <th>AMT_APPLICATION</th>\n",
       "      <td>-0.008822</td>\n",
       "      <td>0.802463</td>\n",
       "      <td>1.000000</td>\n",
       "      <td>0.971016</td>\n",
       "      <td>0.999948</td>\n",
       "    </tr>\n",
       "    <tr>\n",
       "      <th>AMT_CREDIT</th>\n",
       "      <td>-0.005646</td>\n",
       "      <td>0.809831</td>\n",
       "      <td>0.971016</td>\n",
       "      <td>1.000000</td>\n",
       "      <td>0.992700</td>\n",
       "    </tr>\n",
       "    <tr>\n",
       "      <th>AMT_GOODS_PRICE</th>\n",
       "      <td>-0.006970</td>\n",
       "      <td>0.815623</td>\n",
       "      <td>0.999948</td>\n",
       "      <td>0.992700</td>\n",
       "      <td>1.000000</td>\n",
       "    </tr>\n",
       "  </tbody>\n",
       "</table>\n",
       "</div>"
      ],
      "text/plain": [
       "                   TARGET  AMT_ANNUITY  AMT_APPLICATION  AMT_CREDIT  \\\n",
       "TARGET           1.000000    -0.021701        -0.008822   -0.005646   \n",
       "AMT_ANNUITY     -0.021701     1.000000         0.802463    0.809831   \n",
       "AMT_APPLICATION -0.008822     0.802463         1.000000    0.971016   \n",
       "AMT_CREDIT      -0.005646     0.809831         0.971016    1.000000   \n",
       "AMT_GOODS_PRICE -0.006970     0.815623         0.999948    0.992700   \n",
       "\n",
       "                 AMT_GOODS_PRICE  \n",
       "TARGET                 -0.006970  \n",
       "AMT_ANNUITY             0.815623  \n",
       "AMT_APPLICATION         0.999948  \n",
       "AMT_CREDIT              0.992700  \n",
       "AMT_GOODS_PRICE         1.000000  "
      ]
     },
     "execution_count": 53,
     "metadata": {},
     "output_type": "execute_result"
    }
   ],
   "source": [
    "# correlation\n",
    "cor_data_PRE = merge_app_pre[['TARGET', 'AMT_ANNUITY', 'AMT_APPLICATION', 'AMT_CREDIT', 'AMT_GOODS_PRICE']]\n",
    "cor_data_PRE_corrs = cor_data_PRE.corr()\n",
    "cor_data_PRE_corrs\n"
   ]
  },
  {
   "cell_type": "code",
   "execution_count": 54,
   "metadata": {},
   "outputs": [
    {
     "data": {
      "image/png": "[encoded data removed]",
      "text/plain": [
       "<Figure size 1440x720 with 2 Axes>"
      ]
     },
     "metadata": {
      "needs_background": "light"
     },
     "output_type": "display_data"
    }
   ],
   "source": [
    "plt.figure(figsize = (20, 10))\n",
    "\n",
    "# Heatmap of correlations\n",
    "sns.heatmap(cor_data_PRE_corrs, annot = True)\n",
    "plt.title('Correlation Heatmap');"
   ]
  },
  {
   "attachments": {},
   "cell_type": "markdown",
   "metadata": {},
   "source": [
    "The correlation between target and annuity amount is -0.022, which means as the annuity amount goes higher chances of making defaults decreases. That may be because the annuity amount is usually higher for those who have good source of income.     The correlation between application amount and target is -0.0088, which means as the application amount increases chance of making defaults in repayment decreases, that may be because higher amount of loan is provided usually a certain class of people, with good assets, which means there chances of making defaults are very less.     \n",
    "The correlation between target and amount credit is -0.0056, which denotes that people who got higher amount of loans are less likely to make the defaults. This can be due to that the higher amount of loans are usually given against higher collateral security or someone who has good market value and assets, therefore these higher amount of loans seems to be less kind of those loans in which defaults for repayment happens.     \n",
    "The correlation between the target and amount goods priced is -0.007, negative correlation shows that as the goods price increases the likelihood of making defaults in the repayment of loan is goes down, because these loans are against the property whose value is usually higher then the amount of loan credited."
   ]
  },
  {
   "cell_type": "code",
   "execution_count": null,
   "metadata": {},
   "outputs": [],
   "source": []
  }
 ],
 "metadata": {
  "kernelspec": {
   "display_name": "Python 3",
   "language": "python",
   "name": "python3"
  },
  "language_info": {
   "codemirror_mode": {
    "name": "ipython",
    "version": 3
   },
   "file_extension": ".py",
   "mimetype": "text/x-python",
   "name": "python",
   "nbconvert_exporter": "python",
   "pygments_lexer": "ipython3",
   "version": "3.7.3"
  }
 },
 "nbformat": 4,
 "nbformat_minor": 2
}
